{
 "cells": [
  {
   "cell_type": "code",
   "execution_count": 1,
   "metadata": {},
   "outputs": [],
   "source": [
    "# Importation des modules\n",
    "import pandas as pd\n",
    "import numpy as np\n",
    "%matplotlib inline\n",
    "import matplotlib.pyplot as plt\n",
    "import re"
   ]
  },
  {
   "cell_type": "code",
   "execution_count": null,
   "metadata": {},
   "outputs": [],
   "source": [
    "# Définir les options d'affichage pour afficher toutes les lignes sans troncature\n",
    "pd.set_option(\"display.max_rows\",None)\n",
    "pd.set_option(\"display.max_colwidth\",None)\n",
    "\n",
    "# Modifier les options d'affichage pour limiter les décimales\n",
    "pd.set_option('display.float_format', lambda x: '%.2f' % x)\n",
    "# BDD title_principals_actor"
   ]
  },
  {
   "cell_type": "markdown",
   "metadata": {},
   "source": [
    "## Bdd title_principals_actor"
   ]
  },
  {
   "cell_type": "code",
   "execution_count": 2,
   "metadata": {},
   "outputs": [
    {
     "name": "stdout",
     "output_type": "stream",
     "text": [
      "<class 'pandas.core.frame.DataFrame'>\n",
      "RangeIndex: 36254354 entries, 0 to 36254353\n",
      "Data columns (total 6 columns):\n",
      " #   Column      Dtype \n",
      "---  ------      ----- \n",
      " 0   tconst      object\n",
      " 1   ordering    int64 \n",
      " 2   nconst      object\n",
      " 3   category    object\n",
      " 4   job         object\n",
      " 5   characters  object\n",
      "dtypes: int64(1), object(5)\n",
      "memory usage: 1.6+ GB\n",
      "None\n"
     ]
    }
   ],
   "source": [
    "# Affichage de la BDD\n",
    "df_title_principals_actor = pd.read_csv('BDD_CSV/df_title_principals_actor.csv')\n",
    "print(df_title_principals_actor.info())"
   ]
  },
  {
   "cell_type": "code",
   "execution_count": 3,
   "metadata": {},
   "outputs": [
    {
     "data": {
      "text/html": [
       "<div>\n",
       "<style scoped>\n",
       "    .dataframe tbody tr th:only-of-type {\n",
       "        vertical-align: middle;\n",
       "    }\n",
       "\n",
       "    .dataframe tbody tr th {\n",
       "        vertical-align: top;\n",
       "    }\n",
       "\n",
       "    .dataframe thead th {\n",
       "        text-align: right;\n",
       "    }\n",
       "</style>\n",
       "<table border=\"1\" class=\"dataframe\">\n",
       "  <thead>\n",
       "    <tr style=\"text-align: right;\">\n",
       "      <th></th>\n",
       "      <th>tconst</th>\n",
       "      <th>ordering</th>\n",
       "      <th>nconst</th>\n",
       "      <th>category</th>\n",
       "      <th>job</th>\n",
       "      <th>characters</th>\n",
       "    </tr>\n",
       "  </thead>\n",
       "  <tbody>\n",
       "    <tr>\n",
       "      <th>0</th>\n",
       "      <td>tt0000005</td>\n",
       "      <td>1</td>\n",
       "      <td>nm0443482</td>\n",
       "      <td>actor</td>\n",
       "      <td>\\N</td>\n",
       "      <td>[\"Blacksmith\"]</td>\n",
       "    </tr>\n",
       "    <tr>\n",
       "      <th>1</th>\n",
       "      <td>tt0000005</td>\n",
       "      <td>2</td>\n",
       "      <td>nm0653042</td>\n",
       "      <td>actor</td>\n",
       "      <td>\\N</td>\n",
       "      <td>[\"Assistant\"]</td>\n",
       "    </tr>\n",
       "    <tr>\n",
       "      <th>2</th>\n",
       "      <td>tt0000007</td>\n",
       "      <td>1</td>\n",
       "      <td>nm0179163</td>\n",
       "      <td>actor</td>\n",
       "      <td>\\N</td>\n",
       "      <td>\\N</td>\n",
       "    </tr>\n",
       "    <tr>\n",
       "      <th>3</th>\n",
       "      <td>tt0000007</td>\n",
       "      <td>2</td>\n",
       "      <td>nm0183947</td>\n",
       "      <td>actor</td>\n",
       "      <td>\\N</td>\n",
       "      <td>\\N</td>\n",
       "    </tr>\n",
       "    <tr>\n",
       "      <th>4</th>\n",
       "      <td>tt0000008</td>\n",
       "      <td>1</td>\n",
       "      <td>nm0653028</td>\n",
       "      <td>actor</td>\n",
       "      <td>\\N</td>\n",
       "      <td>[\"Sneezing Man\"]</td>\n",
       "    </tr>\n",
       "  </tbody>\n",
       "</table>\n",
       "</div>"
      ],
      "text/plain": [
       "      tconst  ordering     nconst category job        characters\n",
       "0  tt0000005         1  nm0443482    actor  \\N    [\"Blacksmith\"]\n",
       "1  tt0000005         2  nm0653042    actor  \\N     [\"Assistant\"]\n",
       "2  tt0000007         1  nm0179163    actor  \\N                \\N\n",
       "3  tt0000007         2  nm0183947    actor  \\N                \\N\n",
       "4  tt0000008         1  nm0653028    actor  \\N  [\"Sneezing Man\"]"
      ]
     },
     "execution_count": 3,
     "metadata": {},
     "output_type": "execute_result"
    }
   ],
   "source": [
    "df_title_principals_actor.head()"
   ]
  },
  {
   "cell_type": "code",
   "execution_count": null,
   "metadata": {},
   "outputs": [],
   "source": [
    "# Transformer les valeurs \\N en NaN\n",
    "df_title_principals_actor = df_title_principals_actor.replace(\"\\\\N\", np.nan)"
   ]
  },
  {
   "cell_type": "code",
   "execution_count": null,
   "metadata": {},
   "outputs": [],
   "source": [
    "# Initialisation des comptes de NaN\n",
    "nan_counts_per_column = {}\n",
    "total_nan_counts = 0\n",
    "\n",
    "# Boucle sur chaque colonne et comptage des NaN\n",
    "for column in df_title_principals_actor.columns:\n",
    "    nan_count = df_title_principals_actor[column].isna().sum()\n",
    "    nan_counts_per_column[column] = nan_count\n",
    "    total_nan_counts += nan_count\n",
    "\n",
    "# Affichage des résultats\n",
    "print(\"Nombre de NaN par colonne:\")\n",
    "for column, count in nan_counts_per_column.items():\n",
    "    print(f\"Colonne {column}: {count} NaN\")"
   ]
  },
  {
   "cell_type": "markdown",
   "metadata": {},
   "source": [
    "# Nettoyage de la BDD"
   ]
  },
  {
   "cell_type": "code",
   "execution_count": null,
   "metadata": {},
   "outputs": [],
   "source": [
    "# Créer un nouveau DataFrame à partir de df_title_principals_actor pour faciliter la manipulation ultérieure\n",
    "titlePrincipalsActor_clean = pd.DataFrame(df_title_principals_actor)"
   ]
  },
  {
   "cell_type": "code",
   "execution_count": null,
   "metadata": {},
   "outputs": [],
   "source": [
    "# Supprimer les colonnes 'job', 'characters', 'ordering'\n",
    "titlePrincipalsActor_clean.drop(columns=[\"job\", \"characters\", \"ordering\"], inplace=True)"
   ]
  },
  {
   "cell_type": "code",
   "execution_count": null,
   "metadata": {},
   "outputs": [],
   "source": [
    "titlePrincipalsActor_clean[\"category\"].unique()"
   ]
  },
  {
   "cell_type": "markdown",
   "metadata": {},
   "source": [
    "#### Renommer les colonnes"
   ]
  },
  {
   "cell_type": "code",
   "execution_count": null,
   "metadata": {},
   "outputs": [],
   "source": [
    "# Modification des noms de colonnes\n",
    "    # Création du dictionnaire associant les anciens noms aux nouveaux noms de colonnes\n",
    "dictionnaire_colonne = {\n",
    "    \"nconst\": \"ID_name\",\n",
    "    \"tconst\": \"ID_title\"\n",
    "}\n",
    "\n",
    "    # On renomme les variables grâce à la méthode rename\n",
    "titlePrincipalsActor_clean = titlePrincipalsActor_clean.rename(dictionnaire_colonne, axis = 1)\n",
    "\n",
    "titlePrincipalsActor_clean.sample(2)"
   ]
  },
  {
   "cell_type": "code",
   "execution_count": null,
   "metadata": {},
   "outputs": [],
   "source": [
    "titlePrincipalsActor_clean.info()"
   ]
  },
  {
   "cell_type": "markdown",
   "metadata": {},
   "source": [
    "#### Dichotomisation de la colonne category"
   ]
  },
  {
   "cell_type": "code",
   "execution_count": null,
   "metadata": {},
   "outputs": [],
   "source": [
    "# # Split et dichotomisation des valeurs de la colonne 'profession'\n",
    "# profession_dummies = titlePrincipalsActor_clean['category'].str.get_dummies(',')\n",
    "\n",
    "# # Concaténer les colonnes dichotomisées avec le DataFrame original\n",
    "# titlePrincipalsActorClean_dummi = pd.concat([titlePrincipalsActor_clean, profession_dummies], axis=1)\n",
    "\n",
    "# # Afficher le DataFrame avec la colonne profession dichotomisée\n",
    "# titlePrincipalsActorClean_dummi.sample()"
   ]
  },
  {
   "cell_type": "code",
   "execution_count": null,
   "metadata": {},
   "outputs": [],
   "source": [
    "# # On sélectionne uniquement les colonnes qui nous interesse\n",
    "# columns_to_keep = ['ID_name', 'ID_title', 'actor', 'actress']\n",
    "\n",
    "# titlePrincipalsActorClean_Final = titlePrincipalsActorClean_dummi[columns_to_keep]\n",
    "# titlePrincipalsActorClean_Final.sample()"
   ]
  },
  {
   "cell_type": "code",
   "execution_count": null,
   "metadata": {},
   "outputs": [],
   "source": [
    "# # 1-Sauvegarder en format CSV\n",
    "# titlePrincipalsActorClean_Final.to_csv('titlePrincipalsActorClean_Final.csv', index=False)"
   ]
  },
  {
   "cell_type": "markdown",
   "metadata": {},
   "source": [
    "# ***FUSION DES DF***"
   ]
  },
  {
   "cell_type": "markdown",
   "metadata": {},
   "source": [
    "### Merge title_basic et title_rate"
   ]
  },
  {
   "cell_type": "code",
   "execution_count": null,
   "metadata": {},
   "outputs": [],
   "source": [
    "# Affichage de la BDD\n",
    "titleBasic_clean = pd.read_csv('BDD_CSV/last_BDD/titleBasic_clean.csv')\n",
    "print(titleBasic_clean.info())"
   ]
  },
  {
   "cell_type": "code",
   "execution_count": null,
   "metadata": {},
   "outputs": [],
   "source": [
    "# Affichage de la BDD\n",
    "titleRate_clean = pd.read_csv('BDD_CSV/last_BDD/titleRate_clean.csv')\n",
    "print(titleRate_clean.info())"
   ]
  },
  {
   "cell_type": "markdown",
   "metadata": {},
   "source": [
    "#### merge 1"
   ]
  },
  {
   "cell_type": "code",
   "execution_count": null,
   "metadata": {},
   "outputs": [],
   "source": [
    "# On merge les 2 tables title_basic2 et title_rate2\n",
    "mergeTitle_basic_rate = titleBasic_clean.merge(right = titleRate_clean, on = 'ID_title', how = 'left')"
   ]
  },
  {
   "cell_type": "code",
   "execution_count": null,
   "metadata": {},
   "outputs": [],
   "source": [
    "# Affichage \n",
    "print(mergeTitle_basic_rate.info())\n",
    "mergeTitle_basic_rate.sample(3)"
   ]
  },
  {
   "cell_type": "markdown",
   "metadata": {},
   "source": [
    "#### Merge 2"
   ]
  },
  {
   "cell_type": "code",
   "execution_count": null,
   "metadata": {},
   "outputs": [],
   "source": [
    "# Affichage de la BDD\n",
    "#tmdb_clean = pd.read_csv('BDD_CSV/last_BDD/tmdb_clean.csv')\n",
    "print(tmdb_clean.info())"
   ]
  },
  {
   "cell_type": "code",
   "execution_count": null,
   "metadata": {},
   "outputs": [],
   "source": [
    "# On merge les dataframe df_merge1 et tmdb\n",
    "merge_TMDB = mergeTitle_basic_rate.merge(right = tmdb_clean, on = 'ID_title', how = 'left')"
   ]
  },
  {
   "cell_type": "code",
   "execution_count": null,
   "metadata": {},
   "outputs": [],
   "source": [
    "print(merge_TMDB.info())\n",
    "merge_TMDB.sample()"
   ]
  },
  {
   "cell_type": "markdown",
   "metadata": {},
   "source": [
    "### création du df merge_TMDB_clean"
   ]
  },
  {
   "cell_type": "code",
   "execution_count": null,
   "metadata": {},
   "outputs": [],
   "source": [
    "# Créer un nouveau DataFrame à partir de merge_TMDB \n",
    "merge_TMDB_clean = pd.DataFrame(merge_TMDB)"
   ]
  },
  {
   "cell_type": "markdown",
   "metadata": {},
   "source": [
    "##### *****Re-ordonner les colonnes*****"
   ]
  },
  {
   "cell_type": "code",
   "execution_count": null,
   "metadata": {},
   "outputs": [],
   "source": [
    "# Liste des colonnes dans l'ordre désiré\n",
    "columns_order = [\n",
    "    'ID_title', 'title_x', 'original_title_x', 'release_year',\n",
    "    'runtime_minutes_x', 'genres_x', 'average_rating', 'numVotes_x',\n",
    "    'ID_TMDB', 'title_y', 'original_title_y', 'year', 'runtime_minutes_y',\n",
    "    'original_language', 'spoken_languages', 'genres_y', 'averageRating',\n",
    "    'numVotes_y', 'popularity', 'overview', 'poster_path', \n",
    "    'production_companies_name'\n",
    "]\n",
    "\n",
    "# Réordonner les colonnes selon l'ordre spécifié\n",
    "merge_TMDB_clean = merge_TMDB_clean[columns_order]"
   ]
  },
  {
   "cell_type": "code",
   "execution_count": null,
   "metadata": {},
   "outputs": [],
   "source": [
    "# Afficher les premières lignes du DataFrame réordonné\n",
    "\n",
    "print(merge_TMDB_clean.sample(2).to_markdown(index=False, numalign=\"left\", stralign=\"left\"))\n"
   ]
  },
  {
   "cell_type": "markdown",
   "metadata": {},
   "source": [
    "### Gestion des ***NaN***"
   ]
  },
  {
   "cell_type": "code",
   "execution_count": null,
   "metadata": {},
   "outputs": [],
   "source": [
    "# Initialisation des comptes de NaN\n",
    "nan_counts_per_column = {}\n",
    "total_nan_counts = 0\n",
    "\n",
    "# Boucle sur chaque colonne et comptage des NaN\n",
    "for column in merge_TMDB_clean.columns:\n",
    "    nan_count = merge_TMDB_clean[column].isna().sum()\n",
    "    nan_counts_per_column[column] = nan_count\n",
    "    total_nan_counts += nan_count\n",
    "\n",
    "# Affichage des résultats\n",
    "print(\"Nombre de NaN par colonne:\")\n",
    "for column, count in nan_counts_per_column.items():\n",
    "    print(f\"Colonne {column}: {count} NaN\")"
   ]
  },
  {
   "cell_type": "code",
   "execution_count": null,
   "metadata": {},
   "outputs": [],
   "source": [
    "# Supprimer les lignes avec des NaN dans la colonne 'title_x'\n",
    "merge_TMDB_clean = merge_TMDB_clean.dropna(subset=['title_x'])"
   ]
  },
  {
   "cell_type": "code",
   "execution_count": null,
   "metadata": {},
   "outputs": [],
   "source": [
    "# Remplacer les NaN dans 'genres_x' par les valeurs correspondantes de 'genres_y'\n",
    "merge_TMDB_clean['genres_x'] = merge_TMDB_clean['genres_x'].fillna(merge_TMDB_clean['genres_y'])"
   ]
  },
  {
   "cell_type": "code",
   "execution_count": null,
   "metadata": {},
   "outputs": [],
   "source": [
    "# supprimer colonne genres_y\n",
    "merge_TMDB_clean.drop(columns=[\"genres_y\"], inplace= True)"
   ]
  },
  {
   "cell_type": "code",
   "execution_count": null,
   "metadata": {},
   "outputs": [],
   "source": [
    "# Remplacer les NaN dans 'average_rating' d'imbd par les valeurs correspondantes de 'averageRating' provenant de TMBD\n",
    "merge_TMDB_clean['average_rating'] = merge_TMDB_clean['average_rating'].fillna(merge_TMDB_clean['averageRating'])"
   ]
  },
  {
   "cell_type": "code",
   "execution_count": null,
   "metadata": {},
   "outputs": [],
   "source": [
    "# Remplacer les NaN dans 'numVotes_x' par les valeurs correspondantes de 'numVotes_y' provenant de TMBD\n",
    "merge_TMDB_clean['numVotes_x'] = merge_TMDB_clean['numVotes_x'].fillna(merge_TMDB_clean['numVotes_y'])"
   ]
  },
  {
   "cell_type": "code",
   "execution_count": null,
   "metadata": {},
   "outputs": [],
   "source": [
    "# Remplacer les NaN dans 'runtime_minutes_x' par les valeurs correspondantes de 'runtime_minutes_y' provenant de TMBD\n",
    "merge_TMDB_clean['runtime_minutes_x'] = merge_TMDB_clean['runtime_minutes_x'].fillna(merge_TMDB_clean['average_rating'])"
   ]
  },
  {
   "cell_type": "code",
   "execution_count": null,
   "metadata": {},
   "outputs": [],
   "source": [
    "columns_to_keep = ['ID_title', 'title_x', 'original_title_x','original_language', 'release_year', \n",
    "                   'runtime_minutes_x', 'genres_x', 'average_rating', 'numVotes_x', 'popularity', 'overview', 'poster_path', 'production_companies_name']\n",
    "\n",
    "merge_TMDB_clean = merge_TMDB_clean[columns_to_keep]"
   ]
  },
  {
   "cell_type": "code",
   "execution_count": null,
   "metadata": {},
   "outputs": [],
   "source": [
    "# Vérification NaN \n",
    "\n",
    "# Initialisation des comptes de NaN\n",
    "nan_counts_per_column = {}\n",
    "total_nan_counts = 0\n",
    "\n",
    "# Boucle sur chaque colonne et comptage des NaN\n",
    "for column in merge_TMDB_clean.columns:\n",
    "    nan_count = merge_TMDB_clean[column].isna().sum()\n",
    "    nan_counts_per_column[column] = nan_count\n",
    "    total_nan_counts += nan_count\n",
    "\n",
    "# Affichage des résultats\n",
    "print(\"Nombre de NaN par colonne:\")\n",
    "for column, count in nan_counts_per_column.items():\n",
    "    print(f\"Colonne {column}: {count} NaN\")\n"
   ]
  },
  {
   "cell_type": "code",
   "execution_count": null,
   "metadata": {},
   "outputs": [],
   "source": [
    "# Supprimer les lignes dont la colonne 'average_rating' ont la valeur NaN\n",
    "merge_TMDB_clean = merge_TMDB_clean.dropna(subset=['average_rating'])"
   ]
  },
  {
   "cell_type": "code",
   "execution_count": null,
   "metadata": {},
   "outputs": [],
   "source": [
    "# Vérification NaN \n",
    "\n",
    "# Initialisation des comptes de NaN\n",
    "nan_counts_per_column = {}\n",
    "total_nan_counts = 0\n",
    "\n",
    "# Boucle sur chaque colonne et comptage des NaN\n",
    "for column in merge_TMDB_clean.columns:\n",
    "    nan_count = merge_TMDB_clean[column].isna().sum()\n",
    "    nan_counts_per_column[column] = nan_count\n",
    "    total_nan_counts += nan_count\n",
    "\n",
    "# Affichage des résultats\n",
    "print(\"Nombre de NaN par colonne:\")\n",
    "for column, count in nan_counts_per_column.items():\n",
    "    print(f\"Colonne {column}: {count} NaN\")"
   ]
  },
  {
   "cell_type": "code",
   "execution_count": null,
   "metadata": {},
   "outputs": [],
   "source": [
    "## Supprimer les lignes dont la colonne 'genres_x' ont la valeur NaN\n",
    "merge_TMDB_clean = merge_TMDB_clean.dropna(subset=['genres_x'])"
   ]
  },
  {
   "cell_type": "code",
   "execution_count": null,
   "metadata": {},
   "outputs": [],
   "source": [
    "# Vérification NaN \n",
    "\n",
    "# Initialisation des comptes de NaN\n",
    "nan_counts_per_column = {}\n",
    "total_nan_counts = 0\n",
    "\n",
    "# Boucle sur chaque colonne et comptage des NaN\n",
    "for column in merge_TMDB_clean.columns:\n",
    "    nan_count = merge_TMDB_clean[column].isna().sum()\n",
    "    nan_counts_per_column[column] = nan_count\n",
    "    total_nan_counts += nan_count\n",
    "\n",
    "# Affichage des résultats\n",
    "print(\"Nombre de NaN par colonne:\")\n",
    "for column, count in nan_counts_per_column.items():\n",
    "    print(f\"Colonne {column}: {count} NaN\")"
   ]
  },
  {
   "cell_type": "code",
   "execution_count": null,
   "metadata": {},
   "outputs": [],
   "source": [
    "# On renomme les colonnes\n",
    "\n",
    "merge_TMDB_clean = merge_TMDB_clean.rename(columns={\n",
    "    'title_x' : 'title',\n",
    "    'original_title_x' : 'original_title',\n",
    "    'runtime_minutes_x': 'runtime_minutes',\n",
    "    'genres_x': 'genres',\n",
    "    'numVotes_x' : 'numVotes'\n",
    "})"
   ]
  },
  {
   "cell_type": "code",
   "execution_count": null,
   "metadata": {},
   "outputs": [],
   "source": [
    "merge_TMDB_clean.info()"
   ]
  },
  {
   "cell_type": "code",
   "execution_count": null,
   "metadata": {},
   "outputs": [],
   "source": [
    "# # les différentes modalites de la colonne \"genres\"\n",
    "# merge_TMDB_clean[(\"genres\")].value_counts()"
   ]
  },
  {
   "cell_type": "code",
   "execution_count": null,
   "metadata": {},
   "outputs": [],
   "source": [
    "# Remplacer 'Sci Fi' par 'ScienceFiction' dans la colonne 'genres'\n",
    "merge_TMDB_clean['genres'] = merge_TMDB_clean['genres'].str.replace('Sci-Fi', 'ScienceFiction')\n",
    "\n",
    "merge_TMDB_clean['genres'] = merge_TMDB_clean['genres'].str.replace('Science Fiction', 'ScienceFiction')"
   ]
  },
  {
   "cell_type": "markdown",
   "metadata": {},
   "source": [
    "#### ***Colonnes numériques****"
   ]
  },
  {
   "cell_type": "code",
   "execution_count": null,
   "metadata": {},
   "outputs": [],
   "source": [
    "merge_TMDB_clean.describe()"
   ]
  },
  {
   "cell_type": "code",
   "execution_count": null,
   "metadata": {},
   "outputs": [],
   "source": [
    "# Supprimer les lignes où le average_rating == 0\n",
    "merge_TMDB_clean = merge_TMDB_clean[merge_TMDB_clean[\"average_rating\"] != 0]"
   ]
  },
  {
   "cell_type": "code",
   "execution_count": null,
   "metadata": {},
   "outputs": [],
   "source": [
    "# Convertion du type de  release_year en integer\n",
    "merge_TMDB_clean[\"release_year\"] = round(merge_TMDB_clean[\"release_year\"].astype('int64'),0)"
   ]
  },
  {
   "cell_type": "code",
   "execution_count": null,
   "metadata": {},
   "outputs": [],
   "source": [
    "print(merge_TMDB_clean[\"release_year\"].min())\n",
    "print(merge_TMDB_clean[\"release_year\"].max())"
   ]
  },
  {
   "cell_type": "code",
   "execution_count": null,
   "metadata": {},
   "outputs": [],
   "source": [
    "# Convertion du type de  runtime_minutes en integer\n",
    "# Vérification des NaN dans la colonne 'runtime_minutes' et arrondi des autres valeurs\n",
    "def convert_runtime(value):\n",
    "    if pd.notnull(value):\n",
    "        return round(value)\n",
    "    else:\n",
    "        return value\n",
    "\n",
    "# Application de la fonction de conversion à chaque élément de la colonne 'runtime_minutes'\n",
    "merge_TMDB_clean['runtime_minutes'] = merge_TMDB_clean['runtime_minutes'].apply(convert_runtime)\n",
    "\n",
    "# Conversion de la colonne 'runtime_minutes' en type 'Int64' pour pouvoir gérer les NaN\n",
    "merge_TMDB_clean['runtime_minutes'] = round(merge_TMDB_clean['runtime_minutes'].astype('Int64'),0)\n"
   ]
  },
  {
   "cell_type": "code",
   "execution_count": null,
   "metadata": {},
   "outputs": [],
   "source": [
    "merge_TMDB_clean.describe()"
   ]
  },
  {
   "cell_type": "markdown",
   "metadata": {},
   "source": [
    "#### ***Sélection de la durée des films***"
   ]
  },
  {
   "cell_type": "code",
   "execution_count": null,
   "metadata": {},
   "outputs": [],
   "source": [
    "# Retirer les lignes où 'runtime_minutes'\n",
    "merge_TMDB_clean = merge_TMDB_clean[\n",
    "    (merge_TMDB_clean['runtime_minutes'] >= 60) & (merge_TMDB_clean['runtime_minutes'] <= 210)\n",
    "]"
   ]
  },
  {
   "cell_type": "code",
   "execution_count": null,
   "metadata": {},
   "outputs": [],
   "source": [
    "# Minimum de la valeur de \"runtime_minutes\"\n",
    "print(merge_TMDB_clean[\"runtime_minutes\"].min())\n",
    "\n",
    "# Max de la valeur de \"runtime_minutes\"\n",
    "print(merge_TMDB_clean[\"runtime_minutes\"].max())"
   ]
  },
  {
   "cell_type": "markdown",
   "metadata": {},
   "source": [
    "#### ***Colonnes avec données qualitatives***"
   ]
  },
  {
   "cell_type": "code",
   "execution_count": null,
   "metadata": {},
   "outputs": [],
   "source": [
    "print(merge_TMDB_clean['genres'].unique())"
   ]
  },
  {
   "cell_type": "code",
   "execution_count": null,
   "metadata": {},
   "outputs": [],
   "source": [
    "# 1. Éliminer les crochets et les apostrophes\n",
    "merge_TMDB_clean['genres'] = merge_TMDB_clean['genres'].str.replace(r'[\\[\\]\\'\\\"]', '', regex=True)\n",
    "\n",
    "# # 2. Remplacer les virgules par des points-virgules pour uniformiser\n",
    "#merge_TMDB_clean['genres'] = merge_TMDB_clean['genres'].str.replace(',', ',')\n",
    "\n",
    "# 3. Éliminer les espaces superflus au début et à la fin\n",
    "merge_TMDB_clean['genres'] = merge_TMDB_clean['genres'].str.strip()\n",
    "\n",
    "# 4. Éliminer les espaces supplémentaires entre les mots\n",
    "merge_TMDB_clean['genres'] = merge_TMDB_clean['genres'].str.replace(r'\\s*;\\s*', ', ', regex=True)"
   ]
  },
  {
   "cell_type": "code",
   "execution_count": null,
   "metadata": {},
   "outputs": [],
   "source": [
    "print(merge_TMDB_clean['genres'].unique())"
   ]
  },
  {
   "cell_type": "code",
   "execution_count": null,
   "metadata": {},
   "outputs": [],
   "source": [
    "# Remplacement des espaces par des virgules\n",
    "merge_TMDB_clean['genres'] = merge_TMDB_clean['genres'].str.replace(r'\\s+', ',', regex=True)"
   ]
  },
  {
   "cell_type": "code",
   "execution_count": null,
   "metadata": {},
   "outputs": [],
   "source": [
    "print(merge_TMDB_clean['genres'].unique())"
   ]
  },
  {
   "cell_type": "code",
   "execution_count": null,
   "metadata": {},
   "outputs": [],
   "source": [
    "# Remplacement des espaces par des virgules\n",
    "merge_TMDB_clean['genres'] = merge_TMDB_clean['genres'].str.replace(r'\\s+', ',', regex=True)\n",
    "\n",
    "# Suppression de toutes les virgules en doubles\n",
    "merge_TMDB_clean['genres'] = merge_TMDB_clean['genres'].str.replace(r',+', ',', regex=True)\n",
    "\n",
    "# Suppression des virgules en début et fin de chaîne s'il y en a\n",
    "merge_TMDB_clean['genres'] = merge_TMDB_clean['genres'].str.strip(',')\n"
   ]
  },
  {
   "cell_type": "code",
   "execution_count": null,
   "metadata": {},
   "outputs": [],
   "source": [
    "print(merge_TMDB_clean['genres'].unique())"
   ]
  },
  {
   "cell_type": "code",
   "execution_count": null,
   "metadata": {},
   "outputs": [],
   "source": [
    "# Fonction pour détecter les cellules vides, avec guillemets ou espaces\n",
    "def is_invalid(value):\n",
    "    # Vérifie si la cellule est un espace vide, une chaîne vide, ou contient seulement des guillemets simples ou doubles\n",
    "    return value.strip() in ['', \"'\", '\"']\n",
    "\n",
    "# Suppression des lignes invalides\n",
    "merge_TMDB_clean = merge_TMDB_clean[~merge_TMDB_clean['genres'].apply(is_invalid)]\n",
    "\n",
    "# Réinitialiser les index du DataFrame\n",
    "merge_TMDB_clean = merge_TMDB_clean.reset_index(drop=True)\n",
    "\n",
    "# Affichage du DataFrame modifié\n",
    "print(merge_TMDB_clean['genres'].unique())\n",
    "print(merge_TMDB_clean.info())\n"
   ]
  },
  {
   "cell_type": "code",
   "execution_count": null,
   "metadata": {},
   "outputs": [],
   "source": [
    "# Nettoyer les espaces en début et en fin de chaîne pour toutes les colonnes\n",
    "for col in merge_TMDB_clean.select_dtypes(include='object').columns:\n",
    "    merge_TMDB_clean[col] = merge_TMDB_clean[col].astype(str).str.strip()"
   ]
  },
  {
   "cell_type": "code",
   "execution_count": null,
   "metadata": {},
   "outputs": [],
   "source": [
    "# Fonction pour nettoyer les espaces en début et fin de chaîne\n",
    "def clean_string(s):\n",
    "    if isinstance(s, str):  # Vérifie si l'élément est une chaîne de caractères\n",
    "        return s.strip()\n",
    "    return s\n",
    "\n",
    "# Appliquer la fonction de nettoyage à toutes les colonnes du DataFrame\n",
    "merge_TMDB_clean = merge_TMDB_clean.applymap(clean_string)\n",
    "\n",
    "print(merge_TMDB_clean['genres'].unique())"
   ]
  },
  {
   "cell_type": "code",
   "execution_count": null,
   "metadata": {},
   "outputs": [],
   "source": [
    "print(merge_TMDB_clean.info())\n",
    "\n",
    "print(merge_TMDB_clean.sample(2).to_markdown(index=False, numalign=\"left\", stralign=\"left\"))"
   ]
  },
  {
   "cell_type": "markdown",
   "metadata": {},
   "source": [
    "### ***Dichotomisation de la colonne 'genres'***"
   ]
  },
  {
   "cell_type": "code",
   "execution_count": null,
   "metadata": {},
   "outputs": [],
   "source": [
    "# Créer des dummies pour la colonne 'genres'\n",
    "    # 1. On utilise str.get_dummies pour gérer plusieurs genres séparés par un espace\n",
    "dummy_genres = merge_TMDB_clean['genres'].str.get_dummies(sep=',')\n",
    "\n",
    "    # 2. On combine ces dummies avec le DataFrame original\n",
    "mergeTmdb_CleanDum = pd.concat([merge_TMDB_clean, dummy_genres], axis=1)"
   ]
  },
  {
   "cell_type": "code",
   "execution_count": null,
   "metadata": {},
   "outputs": [],
   "source": [
    "print(mergeTmdb_CleanDum.info())\n",
    "\n",
    "# Print the first 5 rows\n",
    "print(mergeTmdb_CleanDum.sample(3).to_markdown(index=False, numalign=\"left\", stralign=\"left\"))"
   ]
  },
  {
   "cell_type": "code",
   "execution_count": null,
   "metadata": {},
   "outputs": [],
   "source": [
    "# Afficher les colonnes modifiées\n",
    "mergeTmdb_CleanDum.describe()"
   ]
  },
  {
   "cell_type": "markdown",
   "metadata": {},
   "source": [
    "#### Ajout de la colonne : moyenne pondérée "
   ]
  },
  {
   "cell_type": "code",
   "execution_count": null,
   "metadata": {},
   "outputs": [],
   "source": [
    "# Calcul de la moyenne pondérée\n",
    "mean_vote = 6.24\n",
    "min_num_vote = 341 \n",
    "\n",
    "mergeTmdb_CleanDum['weighted_averageRating'] = (\n",
    "    (mergeTmdb_CleanDum['average_rating'] * mergeTmdb_CleanDum['numVotes'] + mean_vote * min_num_vote) / \n",
    "    (mergeTmdb_CleanDum['numVotes'] + min_num_vote)\n",
    ")"
   ]
  },
  {
   "cell_type": "markdown",
   "metadata": {},
   "source": [
    "## 1-Sauvegarder en format CSV"
   ]
  },
  {
   "cell_type": "code",
   "execution_count": null,
   "metadata": {},
   "outputs": [],
   "source": [
    "mergeTmdb_CleanDum.to_csv('mergeTmdb_CleanDum.csv', index=False)"
   ]
  },
  {
   "cell_type": "code",
   "execution_count": 4,
   "metadata": {},
   "outputs": [],
   "source": [
    "# Affichage de la BDD\n",
    "mergeTmdb_CleanDum = pd.read_csv('BDD_CSV/last_BDD/mergeTmdb_CleanDum.csv')"
   ]
  },
  {
   "cell_type": "code",
   "execution_count": 5,
   "metadata": {},
   "outputs": [
    {
     "name": "stdout",
     "output_type": "stream",
     "text": [
      "<class 'pandas.core.frame.DataFrame'>\n",
      "RangeIndex: 159960 entries, 0 to 159959\n",
      "Data columns (total 39 columns):\n",
      " #   Column                     Non-Null Count   Dtype  \n",
      "---  ------                     --------------   -----  \n",
      " 0   ID_title                   159960 non-null  object \n",
      " 1   title                      159960 non-null  object \n",
      " 2   original_title             159960 non-null  object \n",
      " 3   original_language          11694 non-null   object \n",
      " 4   release_year               159960 non-null  int64  \n",
      " 5   runtime_minutes            159960 non-null  int64  \n",
      " 6   genres                     159960 non-null  object \n",
      " 7   average_rating             159960 non-null  float64\n",
      " 8   numVotes                   159960 non-null  float64\n",
      " 9   popularity                 11694 non-null   float64\n",
      " 10  overview                   11694 non-null   object \n",
      " 11  poster_path                11056 non-null   object \n",
      " 12  production_companies_name  11415 non-null   object \n",
      " 13  Action                     159960 non-null  int64  \n",
      " 14  Adventure                  159960 non-null  int64  \n",
      " 15  Animation                  159960 non-null  int64  \n",
      " 16  Biography                  159960 non-null  int64  \n",
      " 17  Comedy                     159960 non-null  int64  \n",
      " 18  Crime                      159960 non-null  int64  \n",
      " 19  Documentary                159960 non-null  int64  \n",
      " 20  Drama                      159960 non-null  int64  \n",
      " 21  Family                     159960 non-null  int64  \n",
      " 22  Fantasy                    159960 non-null  int64  \n",
      " 23  Game-Show                  159960 non-null  int64  \n",
      " 24  History                    159960 non-null  int64  \n",
      " 25  Horror                     159960 non-null  int64  \n",
      " 26  Music                      159960 non-null  int64  \n",
      " 27  Musical                    159960 non-null  int64  \n",
      " 28  Mystery                    159960 non-null  int64  \n",
      " 29  News                       159960 non-null  int64  \n",
      " 30  Reality-TV                 159960 non-null  int64  \n",
      " 31  Romance                    159960 non-null  int64  \n",
      " 32  ScienceFiction             159960 non-null  int64  \n",
      " 33  Sport                      159960 non-null  int64  \n",
      " 34  Talk-Show                  159960 non-null  int64  \n",
      " 35  Thriller                   159960 non-null  int64  \n",
      " 36  War                        159960 non-null  int64  \n",
      " 37  Western                    159960 non-null  int64  \n",
      " 38  weighted_averageRating     159960 non-null  float64\n",
      "dtypes: float64(4), int64(27), object(8)\n",
      "memory usage: 47.6+ MB\n",
      "None\n",
      "| ID_title   | title                  | original_title         | original_language   | release_year   | runtime_minutes   | genres                     | average_rating   | numVotes   | popularity   | overview   | poster_path   | production_companies_name   | Action   | Adventure   | Animation   | Biography   | Comedy   | Crime   | Documentary   | Drama   | Family   | Fantasy   | Game-Show   | History   | Horror   | Music   | Musical   | Mystery   | News   | Reality-TV   | Romance   | ScienceFiction   | Sport   | Talk-Show   | Thriller   | War   | Western   | weighted_averageRating   |\n",
      "|:-----------|:-----------------------|:-----------------------|:--------------------|:---------------|:------------------|:---------------------------|:-----------------|:-----------|:-------------|:-----------|:--------------|:----------------------------|:---------|:------------|:------------|:------------|:---------|:--------|:--------------|:--------|:---------|:----------|:------------|:----------|:---------|:--------|:----------|:----------|:-------|:-------------|:----------|:-----------------|:--------|:------------|:-----------|:------|:----------|:-------------------------|\n",
      "| tt10681950 | The Tree House         | Nhà Cây                | nan                 | 2019           | 84                | Documentary,ScienceFiction | 6.3              | 246        | nan          | nan        | nan           | nan                         | 0        | 0           | 0           | 0           | 0        | 0       | 1             | 0       | 0        | 0         | 0           | 0         | 0        | 0       | 0         | 0         | 0      | 0            | 0         | 1                | 0       | 0           | 0          | 0     | 0         | 6.26514                  |\n",
      "| tt10108358 | The Past Is Never Dead | The Past Is Never Dead | nan                 | 2019           | 88                | Documentary                | 6.5              | 28         | nan          | nan        | nan           | nan                         | 0        | 0           | 0           | 0           | 0        | 0       | 1             | 0       | 0        | 0         | 0           | 0         | 0        | 0       | 0         | 0         | 0      | 0            | 0         | 0                | 0       | 0           | 0          | 0     | 0         | 6.25973                  |\n"
     ]
    }
   ],
   "source": [
    "print(mergeTmdb_CleanDum.info())\n",
    "print(mergeTmdb_CleanDum.sample(2).to_markdown(index=False, numalign=\"left\", stralign=\"left\"))"
   ]
  },
  {
   "cell_type": "markdown",
   "metadata": {},
   "source": [
    "#### ***Sélection la moyenne pondérée des films***"
   ]
  },
  {
   "cell_type": "code",
   "execution_count": null,
   "metadata": {},
   "outputs": [],
   "source": [
    "mergeTmdb_CleanDum.describe()"
   ]
  },
  {
   "cell_type": "code",
   "execution_count": null,
   "metadata": {},
   "outputs": [],
   "source": [
    "#  Retirer les lignes dont weighted_averageRating \n",
    "mergeTmdb_CleanDum = mergeTmdb_CleanDum[\n",
    "    (mergeTmdb_CleanDum[\"weighted_averageRating\"] > 6.25) & \n",
    "    (mergeTmdb_CleanDum[\"numVotes\"] > 100)\n",
    "]"
   ]
  },
  {
   "cell_type": "code",
   "execution_count": null,
   "metadata": {},
   "outputs": [],
   "source": [
    "mergeTmdb_CleanDum.info()"
   ]
  },
  {
   "cell_type": "code",
   "execution_count": null,
   "metadata": {},
   "outputs": [],
   "source": [
    "# Initialisation d'un dictionnaire pour stocker le nombre de doublons par colonne\n",
    "duplicate_counts = {}\n",
    "\n",
    "# Pour chaque colonne du DataFrame\n",
    "for col in mergeTmdb_CleanDum.columns:\n",
    "    # Utilisation de duplicated() pour détecter les doublons\n",
    "    num_duplicates = mergeTmdb_CleanDum[col].duplicated(keep=False).sum() - mergeTmdb_CleanDum[col].duplicated(keep='first').sum()\n",
    "    duplicate_counts[col] = num_duplicates\n",
    "\n",
    "# Affichage du nombre de doublons par colonne\n",
    "for col, count in duplicate_counts.items():\n",
    "    print(f\"Colonne '{col}' a {count} doublons\")"
   ]
  },
  {
   "cell_type": "code",
   "execution_count": null,
   "metadata": {},
   "outputs": [],
   "source": [
    "mergeTmdb_CleanDum.info()"
   ]
  },
  {
   "cell_type": "markdown",
   "metadata": {},
   "source": [
    "### 1-Sauvegarder en format CSV"
   ]
  },
  {
   "cell_type": "code",
   "execution_count": null,
   "metadata": {},
   "outputs": [],
   "source": [
    "mergeTmdb_CleanDum.to_csv('mergeTmdb_CleanDum_Final.csv', index=False)"
   ]
  },
  {
   "cell_type": "code",
   "execution_count": 6,
   "metadata": {},
   "outputs": [
    {
     "name": "stdout",
     "output_type": "stream",
     "text": [
      "<class 'pandas.core.frame.DataFrame'>\n",
      "RangeIndex: 33553 entries, 0 to 33552\n",
      "Data columns (total 39 columns):\n",
      " #   Column                     Non-Null Count  Dtype  \n",
      "---  ------                     --------------  -----  \n",
      " 0   ID_title                   33553 non-null  object \n",
      " 1   title                      33553 non-null  object \n",
      " 2   original_title             33553 non-null  object \n",
      " 3   original_language          4627 non-null   object \n",
      " 4   release_year               33553 non-null  int64  \n",
      " 5   runtime_minutes            33553 non-null  int64  \n",
      " 6   genres                     33553 non-null  object \n",
      " 7   average_rating             33553 non-null  float64\n",
      " 8   numVotes                   33553 non-null  float64\n",
      " 9   popularity                 4627 non-null   float64\n",
      " 10  overview                   4627 non-null   object \n",
      " 11  poster_path                4483 non-null   object \n",
      " 12  production_companies_name  4572 non-null   object \n",
      " 13  Action                     33553 non-null  int64  \n",
      " 14  Adventure                  33553 non-null  int64  \n",
      " 15  Animation                  33553 non-null  int64  \n",
      " 16  Biography                  33553 non-null  int64  \n",
      " 17  Comedy                     33553 non-null  int64  \n",
      " 18  Crime                      33553 non-null  int64  \n",
      " 19  Documentary                33553 non-null  int64  \n",
      " 20  Drama                      33553 non-null  int64  \n",
      " 21  Family                     33553 non-null  int64  \n",
      " 22  Fantasy                    33553 non-null  int64  \n",
      " 23  Game-Show                  33553 non-null  int64  \n",
      " 24  History                    33553 non-null  int64  \n",
      " 25  Horror                     33553 non-null  int64  \n",
      " 26  Music                      33553 non-null  int64  \n",
      " 27  Musical                    33553 non-null  int64  \n",
      " 28  Mystery                    33553 non-null  int64  \n",
      " 29  News                       33553 non-null  int64  \n",
      " 30  Reality-TV                 33553 non-null  int64  \n",
      " 31  Romance                    33553 non-null  int64  \n",
      " 32  ScienceFiction             33553 non-null  int64  \n",
      " 33  Sport                      33553 non-null  int64  \n",
      " 34  Talk-Show                  33553 non-null  int64  \n",
      " 35  Thriller                   33553 non-null  int64  \n",
      " 36  War                        33553 non-null  int64  \n",
      " 37  Western                    33553 non-null  int64  \n",
      " 38  weighted_averageRating     33553 non-null  float64\n",
      "dtypes: float64(4), int64(27), object(8)\n",
      "memory usage: 10.0+ MB\n",
      "None\n"
     ]
    }
   ],
   "source": [
    "# Affichage de la BDD\n",
    "mergeTmdb_CleanDum_Final = pd.read_csv('BDD_CSV/last_BDD/mergeTmdb_CleanDum_Final.csv')\n",
    "print(mergeTmdb_CleanDum_Final.info())"
   ]
  },
  {
   "cell_type": "code",
   "execution_count": 8,
   "metadata": {},
   "outputs": [
    {
     "name": "stdout",
     "output_type": "stream",
     "text": [
      "| ID_title   | title                      | original_title             | original_language   | release_year   | runtime_minutes   | genres                  | average_rating   | numVotes   | popularity   | overview                                                                                                                                                                                                                                                                                                                                                                                                                                          | poster_path                      | production_companies_name   | Action   | Adventure   | Animation   | Biography   | Comedy   | Crime   | Documentary   | Drama   | Family   | Fantasy   | Game-Show   | History   | Horror   | Music   | Musical   | Mystery   | News   | Reality-TV   | Romance   | ScienceFiction   | Sport   | Talk-Show   | Thriller   | War   | Western   | weighted_averageRating   |\n",
      "|:-----------|:---------------------------|:---------------------------|:--------------------|:---------------|:------------------|:------------------------|:-----------------|:-----------|:-------------|:--------------------------------------------------------------------------------------------------------------------------------------------------------------------------------------------------------------------------------------------------------------------------------------------------------------------------------------------------------------------------------------------------------------------------------------------------|:---------------------------------|:----------------------------|:---------|:------------|:------------|:------------|:---------|:--------|:--------------|:--------|:---------|:----------|:------------|:----------|:---------|:--------|:----------|:----------|:-------|:-------------|:----------|:-----------------|:--------|:------------|:-----------|:------|:----------|:-------------------------|\n",
      "| tt11242654 | They Shot the Piano Player | They Shot the Piano Player | nan                 | 2023           | 104               | Animation,Drama,History | 6.6              | 633        | nan          | nan                                                                                                                                                                                                                                                                                                                                                                                                                                               | nan                              | nan                         | 0        | 0           | 1           | 0           | 0        | 0       | 0             | 1       | 0        | 0         | 0           | 1         | 0        | 0       | 0         | 0         | 0      | 0            | 0         | 0                | 0       | 0           | 0          | 0     | 0         | 6.47396                  |\n",
      "| tt14502642 | We Were Once Kids          | We Were Once Kids          | en                  | 2021           | 88                | Documentary             | 7.2              | 434        | 3.987        | In the early nineties, before the massive gentrification of many of New York's then slums, several young people from very disparate backgrounds left their broken homes and ventured onto the brutal streets of the city. United by their love of skateboarding, they formed a family and built a unique lifestyle that eventually inspired Kids, a groundbreaking and outrageous film directed by photographer Larry Clark and released in 1995. | /8ARnX6piGWzpGzCWtPiy7ACPeme.jpg | Documentary                 | 0        | 0           | 0           | 0           | 0        | 0       | 1             | 0       | 0        | 0         | 0           | 0         | 0        | 0       | 0         | 0         | 0      | 0            | 0         | 0                | 0       | 0           | 0          | 0     | 0         | 6.7776                   |\n"
     ]
    }
   ],
   "source": [
    "print(mergeTmdb_CleanDum_Final.sample(2).to_markdown(index=False, numalign=\"left\", stralign=\"left\"))"
   ]
  },
  {
   "cell_type": "code",
   "execution_count": null,
   "metadata": {},
   "outputs": [],
   "source": [
    "mergeTmdb_CleanDum_Final[mergeTmdb_CleanDum_Final['title'] == 'Fight Club']"
   ]
  },
  {
   "cell_type": "code",
   "execution_count": 16,
   "metadata": {},
   "outputs": [
    {
     "data": {
      "text/html": [
       "<div>\n",
       "<style scoped>\n",
       "    .dataframe tbody tr th:only-of-type {\n",
       "        vertical-align: middle;\n",
       "    }\n",
       "\n",
       "    .dataframe tbody tr th {\n",
       "        vertical-align: top;\n",
       "    }\n",
       "\n",
       "    .dataframe thead th {\n",
       "        text-align: right;\n",
       "    }\n",
       "</style>\n",
       "<table border=\"1\" class=\"dataframe\">\n",
       "  <thead>\n",
       "    <tr style=\"text-align: right;\">\n",
       "      <th></th>\n",
       "      <th>ID_title</th>\n",
       "      <th>title</th>\n",
       "      <th>original_title</th>\n",
       "      <th>original_language</th>\n",
       "      <th>release_year</th>\n",
       "      <th>runtime_minutes</th>\n",
       "      <th>genres</th>\n",
       "      <th>average_rating</th>\n",
       "      <th>numVotes</th>\n",
       "      <th>popularity</th>\n",
       "      <th>...</th>\n",
       "      <th>News</th>\n",
       "      <th>Reality-TV</th>\n",
       "      <th>Romance</th>\n",
       "      <th>ScienceFiction</th>\n",
       "      <th>Sport</th>\n",
       "      <th>Talk-Show</th>\n",
       "      <th>Thriller</th>\n",
       "      <th>War</th>\n",
       "      <th>Western</th>\n",
       "      <th>weighted_averageRating</th>\n",
       "    </tr>\n",
       "  </thead>\n",
       "  <tbody>\n",
       "    <tr>\n",
       "      <th>1503</th>\n",
       "      <td>tt2370248</td>\n",
       "      <td>Short Term 12</td>\n",
       "      <td>Short Term 12</td>\n",
       "      <td>en</td>\n",
       "      <td>2013</td>\n",
       "      <td>96</td>\n",
       "      <td>Drama</td>\n",
       "      <td>7.9</td>\n",
       "      <td>92053.0</td>\n",
       "      <td>8.087</td>\n",
       "      <td>...</td>\n",
       "      <td>0</td>\n",
       "      <td>0</td>\n",
       "      <td>0</td>\n",
       "      <td>0</td>\n",
       "      <td>0</td>\n",
       "      <td>0</td>\n",
       "      <td>0</td>\n",
       "      <td>0</td>\n",
       "      <td>0</td>\n",
       "      <td>7.893873</td>\n",
       "    </tr>\n",
       "  </tbody>\n",
       "</table>\n",
       "<p>1 rows × 39 columns</p>\n",
       "</div>"
      ],
      "text/plain": [
       "       ID_title          title original_title original_language  release_year  \\\n",
       "1503  tt2370248  Short Term 12  Short Term 12                en          2013   \n",
       "\n",
       "      runtime_minutes genres  average_rating  numVotes  popularity  ... News  \\\n",
       "1503               96  Drama             7.9   92053.0       8.087  ...    0   \n",
       "\n",
       "     Reality-TV Romance  ScienceFiction  Sport  Talk-Show  Thriller  War  \\\n",
       "1503          0       0               0      0          0         0    0   \n",
       "\n",
       "      Western  weighted_averageRating  \n",
       "1503        0                7.893873  \n",
       "\n",
       "[1 rows x 39 columns]"
      ]
     },
     "execution_count": 16,
     "metadata": {},
     "output_type": "execute_result"
    }
   ],
   "source": [
    "mergeTmdb_CleanDum_Final[mergeTmdb_CleanDum_Final['ID_title'] == 'tt2370248']"
   ]
  },
  {
   "cell_type": "markdown",
   "metadata": {},
   "source": [
    "## Merge 3"
   ]
  },
  {
   "cell_type": "markdown",
   "metadata": {},
   "source": [
    "###### ***on va associer la table mergeTMDBDummi_Final avec titlePrincipalsActorClean_Final et nameBasic_Final***\n"
   ]
  },
  {
   "cell_type": "code",
   "execution_count": null,
   "metadata": {},
   "outputs": [],
   "source": [
    "# # retirer les lignes dans le df qui n'ont pas de original_language\n",
    "# mergeTmdb_CleanDum_Final2 = mergeTmdb_CleanDum_Final.dropna(subset= 'original_language')\n",
    "# mergeTmdb_CleanDum_Final2.info()"
   ]
  },
  {
   "cell_type": "markdown",
   "metadata": {},
   "source": [
    "##### ***Merge entre name_basic et titlePrincipal***"
   ]
  },
  {
   "cell_type": "code",
   "execution_count": 9,
   "metadata": {},
   "outputs": [
    {
     "name": "stdout",
     "output_type": "stream",
     "text": [
      "<class 'pandas.core.frame.DataFrame'>\n",
      "RangeIndex: 20434966 entries, 0 to 20434965\n",
      "Data columns (total 6 columns):\n",
      " #   Column      Dtype \n",
      "---  ------      ----- \n",
      " 0   ID_name     object\n",
      " 1   actor_name  object\n",
      " 2   ID_title    object\n",
      " 3   actor       int64 \n",
      " 4   actress     int64 \n",
      " 5   director    int64 \n",
      "dtypes: int64(3), object(3)\n",
      "memory usage: 935.4+ MB\n",
      "None\n"
     ]
    }
   ],
   "source": [
    "# Affichage de la BDD\n",
    "nameBasic_Final = pd.read_csv('BDD_CSV/last_BDD/nameBasic_Final.csv')\n",
    "print(nameBasic_Final.info())"
   ]
  },
  {
   "cell_type": "code",
   "execution_count": 10,
   "metadata": {},
   "outputs": [
    {
     "name": "stdout",
     "output_type": "stream",
     "text": [
      "| ID_name    | actor_name   | ID_title   | actor   | actress   | director   |\n",
      "|:-----------|:-------------|:-----------|:--------|:----------|:-----------|\n",
      "| nm11369758 | Sandy Gervay | tt22780164 | 0       | 0         | 0          |\n",
      "| nm14527724 | Nerea Alegre | tt26598475 | 0       | 0         | 0          |\n"
     ]
    }
   ],
   "source": [
    "print(nameBasic_Final.sample(2).to_markdown(index=False, numalign=\"left\", stralign=\"left\"))"
   ]
  },
  {
   "cell_type": "code",
   "execution_count": null,
   "metadata": {},
   "outputs": [],
   "source": [
    "nameBasic_Final[nameBasic_Final['ID_title'] == 'tt0137523']"
   ]
  },
  {
   "cell_type": "code",
   "execution_count": null,
   "metadata": {},
   "outputs": [],
   "source": [
    "nameBasic_Final[nameBasic_Final['ID_name'] == 'nm12461406']"
   ]
  },
  {
   "cell_type": "code",
   "execution_count": 11,
   "metadata": {},
   "outputs": [
    {
     "name": "stdout",
     "output_type": "stream",
     "text": [
      "<class 'pandas.core.frame.DataFrame'>\n",
      "RangeIndex: 36254354 entries, 0 to 36254353\n",
      "Data columns (total 4 columns):\n",
      " #   Column    Dtype \n",
      "---  ------    ----- \n",
      " 0   ID_name   object\n",
      " 1   ID_title  object\n",
      " 2   actor     int64 \n",
      " 3   actress   int64 \n",
      "dtypes: int64(2), object(2)\n",
      "memory usage: 1.1+ GB\n",
      "None\n"
     ]
    }
   ],
   "source": [
    "# Affichage de la BDD\n",
    "titlePrincipalsActorClean_Final = pd.read_csv('BDD_CSV/last_BDD/titlePrincipalsActorClean_Final.csv')\n",
    "print(titlePrincipalsActorClean_Final.info())"
   ]
  },
  {
   "cell_type": "code",
   "execution_count": 12,
   "metadata": {},
   "outputs": [
    {
     "name": "stdout",
     "output_type": "stream",
     "text": [
      "| ID_name   | ID_title   | actor   | actress   |\n",
      "|:----------|:-----------|:--------|:----------|\n",
      "| nm0238546 | tt0830227  | 1       | 0         |\n",
      "| nm0569996 | tt0978911  | 0       | 1         |\n"
     ]
    }
   ],
   "source": [
    "print(titlePrincipalsActorClean_Final.sample(2).to_markdown(index=False, numalign=\"left\", stralign=\"left\"))"
   ]
  },
  {
   "cell_type": "code",
   "execution_count": null,
   "metadata": {},
   "outputs": [],
   "source": [
    "titlePrincipalsActorClean_Final[titlePrincipalsActorClean_Final['ID_title'] == 'tt0137523']"
   ]
  },
  {
   "cell_type": "code",
   "execution_count": null,
   "metadata": {},
   "outputs": [],
   "source": [
    "titlePrincipalsActorClean_Final[titlePrincipalsActorClean_Final['ID_name'] == 'nm12461406']"
   ]
  },
  {
   "cell_type": "markdown",
   "metadata": {},
   "source": [
    "##### Merge titlePrincipalsActorClean_Final & mergeTmdb_CleanDum_Final"
   ]
  },
  {
   "cell_type": "code",
   "execution_count": 46,
   "metadata": {},
   "outputs": [],
   "source": [
    "TmdbCleanDumActor_Final = mergeTmdb_CleanDum_Final.merge(right = titlePrincipalsActorClean_Final, on = \"ID_title\", how = 'left')"
   ]
  },
  {
   "cell_type": "code",
   "execution_count": 47,
   "metadata": {},
   "outputs": [
    {
     "name": "stdout",
     "output_type": "stream",
     "text": [
      "<class 'pandas.core.frame.DataFrame'>\n",
      "RangeIndex: 267235 entries, 0 to 267234\n",
      "Data columns (total 42 columns):\n",
      " #   Column                     Non-Null Count   Dtype  \n",
      "---  ------                     --------------   -----  \n",
      " 0   ID_title                   267235 non-null  object \n",
      " 1   title                      267235 non-null  object \n",
      " 2   original_title             267235 non-null  object \n",
      " 3   original_language          30345 non-null   object \n",
      " 4   release_year               267235 non-null  int64  \n",
      " 5   runtime_minutes            267235 non-null  int64  \n",
      " 6   genres                     267235 non-null  object \n",
      " 7   average_rating             267235 non-null  float64\n",
      " 8   numVotes                   267235 non-null  float64\n",
      " 9   popularity                 30345 non-null   float64\n",
      " 10  overview                   30345 non-null   object \n",
      " 11  poster_path                29875 non-null   object \n",
      " 12  production_companies_name  29975 non-null   object \n",
      " 13  Action                     267235 non-null  int64  \n",
      " 14  Adventure                  267235 non-null  int64  \n",
      " 15  Animation                  267235 non-null  int64  \n",
      " 16  Biography                  267235 non-null  int64  \n",
      " 17  Comedy                     267235 non-null  int64  \n",
      " 18  Crime                      267235 non-null  int64  \n",
      " 19  Documentary                267235 non-null  int64  \n",
      " 20  Drama                      267235 non-null  int64  \n",
      " 21  Family                     267235 non-null  int64  \n",
      " 22  Fantasy                    267235 non-null  int64  \n",
      " 23  Game-Show                  267235 non-null  int64  \n",
      " 24  History                    267235 non-null  int64  \n",
      " 25  Horror                     267235 non-null  int64  \n",
      " 26  Music                      267235 non-null  int64  \n",
      " 27  Musical                    267235 non-null  int64  \n",
      " 28  Mystery                    267235 non-null  int64  \n",
      " 29  News                       267235 non-null  int64  \n",
      " 30  Reality-TV                 267235 non-null  int64  \n",
      " 31  Romance                    267235 non-null  int64  \n",
      " 32  ScienceFiction             267235 non-null  int64  \n",
      " 33  Sport                      267235 non-null  int64  \n",
      " 34  Talk-Show                  267235 non-null  int64  \n",
      " 35  Thriller                   267235 non-null  int64  \n",
      " 36  War                        267235 non-null  int64  \n",
      " 37  Western                    267235 non-null  int64  \n",
      " 38  weighted_averageRating     267235 non-null  float64\n",
      " 39  ID_name                    261918 non-null  object \n",
      " 40  actor                      261918 non-null  float64\n",
      " 41  actress                    261918 non-null  float64\n",
      "dtypes: float64(6), int64(27), object(9)\n",
      "memory usage: 85.6+ MB\n",
      "None\n",
      "\n",
      "| ID_title   | title                 | original_title         | original_language   | release_year   | runtime_minutes   | genres           | average_rating   | numVotes   | popularity   | overview                                                                                                                                                                                                                                                                                          | poster_path                      | production_companies_name   | Action   | Adventure   | Animation   | Biography   | Comedy   | Crime   | Documentary   | Drama   | Family   | Fantasy   | Game-Show   | History   | Horror   | Music   | Musical   | Mystery   | News   | Reality-TV   | Romance   | ScienceFiction   | Sport   | Talk-Show   | Thriller   | War   | Western   | weighted_averageRating   | ID_name   | actor   | actress   |\n",
      "|:-----------|:----------------------|:-----------------------|:--------------------|:---------------|:------------------|:-----------------|:-----------------|:-----------|:-------------|:--------------------------------------------------------------------------------------------------------------------------------------------------------------------------------------------------------------------------------------------------------------------------------------------------|:---------------------------------|:----------------------------|:---------|:------------|:------------|:------------|:---------|:--------|:--------------|:--------|:---------|:----------|:------------|:----------|:---------|:--------|:----------|:----------|:-------|:-------------|:----------|:-----------------|:--------|:------------|:-----------|:------|:----------|:-------------------------|:----------|:--------|:----------|\n",
      "| tt0475783  | Welcome to Dongmakgol | Welkkeom tu Dongmakgol | nan                 | 2005           | 133               | Comedy,Drama,War | 7.6              | 7566       | nan          | nan                                                                                                                                                                                                                                                                                               | nan                              | nan                         | 0        | 0           | 0           | 0           | 1        | 0       | 0             | 1       | 0        | 0         | 0           | 0         | 0        | 0       | 0         | 0         | 0      | 0            | 0         | 0                | 0       | 0           | 0          | 1     | 0         | 7.54135                  | nm2175082 | 1       | 0         |\n",
      "| tt0181618  | Judy Berlin           | Judy Berlin            | en                  | 1999           | 93                | Comedy,Drama     | 6.9              | 1096       | 1.684        | Judy Berlin is an aspiring actress whose idealism is at odds with her small suburban community, where a solar eclipse induces town inhabitants (a lonely housewife, a frustrated schoolteacher, and a struggling filmmaker) to search for solace and understanding in themselves and one another. | /vBLRFlrUOvYM2dlDQx5oaZSTVnl.jpg | Comedy, Drama               | 0        | 0           | 0           | 0           | 1        | 0       | 0             | 1       | 0        | 0         | 0           | 0         | 0        | 0       | 0         | 0         | 0      | 0            | 0         | 0                | 0       | 0           | 0          | 0     | 0         | 6.74338                  | nm0323344 | 0       | 1         |\n"
     ]
    }
   ],
   "source": [
    "print(TmdbCleanDumActor_Final.info())\n",
    "print()\n",
    "print(TmdbCleanDumActor_Final.sample(2).to_markdown(index=False, numalign=\"left\", stralign=\"left\"))"
   ]
  },
  {
   "cell_type": "code",
   "execution_count": 49,
   "metadata": {},
   "outputs": [
    {
     "data": {
      "text/html": [
       "<div>\n",
       "<style scoped>\n",
       "    .dataframe tbody tr th:only-of-type {\n",
       "        vertical-align: middle;\n",
       "    }\n",
       "\n",
       "    .dataframe tbody tr th {\n",
       "        vertical-align: top;\n",
       "    }\n",
       "\n",
       "    .dataframe thead th {\n",
       "        text-align: right;\n",
       "    }\n",
       "</style>\n",
       "<table border=\"1\" class=\"dataframe\">\n",
       "  <thead>\n",
       "    <tr style=\"text-align: right;\">\n",
       "      <th></th>\n",
       "      <th>ID_title</th>\n",
       "      <th>title</th>\n",
       "      <th>original_title</th>\n",
       "      <th>original_language</th>\n",
       "      <th>release_year</th>\n",
       "      <th>runtime_minutes</th>\n",
       "      <th>genres</th>\n",
       "      <th>average_rating</th>\n",
       "      <th>numVotes</th>\n",
       "      <th>popularity</th>\n",
       "      <th>...</th>\n",
       "      <th>ScienceFiction</th>\n",
       "      <th>Sport</th>\n",
       "      <th>Talk-Show</th>\n",
       "      <th>Thriller</th>\n",
       "      <th>War</th>\n",
       "      <th>Western</th>\n",
       "      <th>weighted_averageRating</th>\n",
       "      <th>ID_name</th>\n",
       "      <th>actor</th>\n",
       "      <th>actress</th>\n",
       "    </tr>\n",
       "  </thead>\n",
       "  <tbody>\n",
       "    <tr>\n",
       "      <th>251146</th>\n",
       "      <td>tt0109830</td>\n",
       "      <td>Forrest Gump</td>\n",
       "      <td>Forrest Gump</td>\n",
       "      <td>NaN</td>\n",
       "      <td>1994</td>\n",
       "      <td>142</td>\n",
       "      <td>Drama,Romance</td>\n",
       "      <td>8.8</td>\n",
       "      <td>2272161.0</td>\n",
       "      <td>NaN</td>\n",
       "      <td>...</td>\n",
       "      <td>0</td>\n",
       "      <td>0</td>\n",
       "      <td>0</td>\n",
       "      <td>0</td>\n",
       "      <td>0</td>\n",
       "      <td>0</td>\n",
       "      <td>8.799616</td>\n",
       "      <td>nm0000158</td>\n",
       "      <td>1.0</td>\n",
       "      <td>0.0</td>\n",
       "    </tr>\n",
       "    <tr>\n",
       "      <th>251147</th>\n",
       "      <td>tt0109830</td>\n",
       "      <td>Forrest Gump</td>\n",
       "      <td>Forrest Gump</td>\n",
       "      <td>NaN</td>\n",
       "      <td>1994</td>\n",
       "      <td>142</td>\n",
       "      <td>Drama,Romance</td>\n",
       "      <td>8.8</td>\n",
       "      <td>2272161.0</td>\n",
       "      <td>NaN</td>\n",
       "      <td>...</td>\n",
       "      <td>0</td>\n",
       "      <td>0</td>\n",
       "      <td>0</td>\n",
       "      <td>0</td>\n",
       "      <td>0</td>\n",
       "      <td>0</td>\n",
       "      <td>8.799616</td>\n",
       "      <td>nm0000705</td>\n",
       "      <td>0.0</td>\n",
       "      <td>1.0</td>\n",
       "    </tr>\n",
       "    <tr>\n",
       "      <th>251148</th>\n",
       "      <td>tt0109830</td>\n",
       "      <td>Forrest Gump</td>\n",
       "      <td>Forrest Gump</td>\n",
       "      <td>NaN</td>\n",
       "      <td>1994</td>\n",
       "      <td>142</td>\n",
       "      <td>Drama,Romance</td>\n",
       "      <td>8.8</td>\n",
       "      <td>2272161.0</td>\n",
       "      <td>NaN</td>\n",
       "      <td>...</td>\n",
       "      <td>0</td>\n",
       "      <td>0</td>\n",
       "      <td>0</td>\n",
       "      <td>0</td>\n",
       "      <td>0</td>\n",
       "      <td>0</td>\n",
       "      <td>8.799616</td>\n",
       "      <td>nm0000641</td>\n",
       "      <td>1.0</td>\n",
       "      <td>0.0</td>\n",
       "    </tr>\n",
       "    <tr>\n",
       "      <th>251149</th>\n",
       "      <td>tt0109830</td>\n",
       "      <td>Forrest Gump</td>\n",
       "      <td>Forrest Gump</td>\n",
       "      <td>NaN</td>\n",
       "      <td>1994</td>\n",
       "      <td>142</td>\n",
       "      <td>Drama,Romance</td>\n",
       "      <td>8.8</td>\n",
       "      <td>2272161.0</td>\n",
       "      <td>NaN</td>\n",
       "      <td>...</td>\n",
       "      <td>0</td>\n",
       "      <td>0</td>\n",
       "      <td>0</td>\n",
       "      <td>0</td>\n",
       "      <td>0</td>\n",
       "      <td>0</td>\n",
       "      <td>8.799616</td>\n",
       "      <td>nm0000398</td>\n",
       "      <td>0.0</td>\n",
       "      <td>1.0</td>\n",
       "    </tr>\n",
       "    <tr>\n",
       "      <th>251150</th>\n",
       "      <td>tt0109830</td>\n",
       "      <td>Forrest Gump</td>\n",
       "      <td>Forrest Gump</td>\n",
       "      <td>NaN</td>\n",
       "      <td>1994</td>\n",
       "      <td>142</td>\n",
       "      <td>Drama,Romance</td>\n",
       "      <td>8.8</td>\n",
       "      <td>2272161.0</td>\n",
       "      <td>NaN</td>\n",
       "      <td>...</td>\n",
       "      <td>0</td>\n",
       "      <td>0</td>\n",
       "      <td>0</td>\n",
       "      <td>0</td>\n",
       "      <td>0</td>\n",
       "      <td>0</td>\n",
       "      <td>8.799616</td>\n",
       "      <td>nm0931508</td>\n",
       "      <td>0.0</td>\n",
       "      <td>1.0</td>\n",
       "    </tr>\n",
       "    <tr>\n",
       "      <th>251151</th>\n",
       "      <td>tt0109830</td>\n",
       "      <td>Forrest Gump</td>\n",
       "      <td>Forrest Gump</td>\n",
       "      <td>NaN</td>\n",
       "      <td>1994</td>\n",
       "      <td>142</td>\n",
       "      <td>Drama,Romance</td>\n",
       "      <td>8.8</td>\n",
       "      <td>2272161.0</td>\n",
       "      <td>NaN</td>\n",
       "      <td>...</td>\n",
       "      <td>0</td>\n",
       "      <td>0</td>\n",
       "      <td>0</td>\n",
       "      <td>0</td>\n",
       "      <td>0</td>\n",
       "      <td>0</td>\n",
       "      <td>8.799616</td>\n",
       "      <td>nm0402011</td>\n",
       "      <td>1.0</td>\n",
       "      <td>0.0</td>\n",
       "    </tr>\n",
       "    <tr>\n",
       "      <th>251152</th>\n",
       "      <td>tt0109830</td>\n",
       "      <td>Forrest Gump</td>\n",
       "      <td>Forrest Gump</td>\n",
       "      <td>NaN</td>\n",
       "      <td>1994</td>\n",
       "      <td>142</td>\n",
       "      <td>Drama,Romance</td>\n",
       "      <td>8.8</td>\n",
       "      <td>2272161.0</td>\n",
       "      <td>NaN</td>\n",
       "      <td>...</td>\n",
       "      <td>0</td>\n",
       "      <td>0</td>\n",
       "      <td>0</td>\n",
       "      <td>0</td>\n",
       "      <td>0</td>\n",
       "      <td>0</td>\n",
       "      <td>8.799616</td>\n",
       "      <td>nm0381041</td>\n",
       "      <td>1.0</td>\n",
       "      <td>0.0</td>\n",
       "    </tr>\n",
       "    <tr>\n",
       "      <th>251153</th>\n",
       "      <td>tt0109830</td>\n",
       "      <td>Forrest Gump</td>\n",
       "      <td>Forrest Gump</td>\n",
       "      <td>NaN</td>\n",
       "      <td>1994</td>\n",
       "      <td>142</td>\n",
       "      <td>Drama,Romance</td>\n",
       "      <td>8.8</td>\n",
       "      <td>2272161.0</td>\n",
       "      <td>NaN</td>\n",
       "      <td>...</td>\n",
       "      <td>0</td>\n",
       "      <td>0</td>\n",
       "      <td>0</td>\n",
       "      <td>0</td>\n",
       "      <td>0</td>\n",
       "      <td>0</td>\n",
       "      <td>8.799616</td>\n",
       "      <td>nm0446404</td>\n",
       "      <td>1.0</td>\n",
       "      <td>0.0</td>\n",
       "    </tr>\n",
       "    <tr>\n",
       "      <th>251154</th>\n",
       "      <td>tt0109830</td>\n",
       "      <td>Forrest Gump</td>\n",
       "      <td>Forrest Gump</td>\n",
       "      <td>NaN</td>\n",
       "      <td>1994</td>\n",
       "      <td>142</td>\n",
       "      <td>Drama,Romance</td>\n",
       "      <td>8.8</td>\n",
       "      <td>2272161.0</td>\n",
       "      <td>NaN</td>\n",
       "      <td>...</td>\n",
       "      <td>0</td>\n",
       "      <td>0</td>\n",
       "      <td>0</td>\n",
       "      <td>0</td>\n",
       "      <td>0</td>\n",
       "      <td>0</td>\n",
       "      <td>8.799616</td>\n",
       "      <td>nm0672225</td>\n",
       "      <td>1.0</td>\n",
       "      <td>0.0</td>\n",
       "    </tr>\n",
       "    <tr>\n",
       "      <th>251155</th>\n",
       "      <td>tt0109830</td>\n",
       "      <td>Forrest Gump</td>\n",
       "      <td>Forrest Gump</td>\n",
       "      <td>NaN</td>\n",
       "      <td>1994</td>\n",
       "      <td>142</td>\n",
       "      <td>Drama,Romance</td>\n",
       "      <td>8.8</td>\n",
       "      <td>2272161.0</td>\n",
       "      <td>NaN</td>\n",
       "      <td>...</td>\n",
       "      <td>0</td>\n",
       "      <td>0</td>\n",
       "      <td>0</td>\n",
       "      <td>0</td>\n",
       "      <td>0</td>\n",
       "      <td>0</td>\n",
       "      <td>8.799616</td>\n",
       "      <td>nm0709615</td>\n",
       "      <td>1.0</td>\n",
       "      <td>0.0</td>\n",
       "    </tr>\n",
       "  </tbody>\n",
       "</table>\n",
       "<p>10 rows × 42 columns</p>\n",
       "</div>"
      ],
      "text/plain": [
       "         ID_title         title original_title original_language  \\\n",
       "251146  tt0109830  Forrest Gump   Forrest Gump               NaN   \n",
       "251147  tt0109830  Forrest Gump   Forrest Gump               NaN   \n",
       "251148  tt0109830  Forrest Gump   Forrest Gump               NaN   \n",
       "251149  tt0109830  Forrest Gump   Forrest Gump               NaN   \n",
       "251150  tt0109830  Forrest Gump   Forrest Gump               NaN   \n",
       "251151  tt0109830  Forrest Gump   Forrest Gump               NaN   \n",
       "251152  tt0109830  Forrest Gump   Forrest Gump               NaN   \n",
       "251153  tt0109830  Forrest Gump   Forrest Gump               NaN   \n",
       "251154  tt0109830  Forrest Gump   Forrest Gump               NaN   \n",
       "251155  tt0109830  Forrest Gump   Forrest Gump               NaN   \n",
       "\n",
       "        release_year  runtime_minutes         genres  average_rating  \\\n",
       "251146          1994              142  Drama,Romance             8.8   \n",
       "251147          1994              142  Drama,Romance             8.8   \n",
       "251148          1994              142  Drama,Romance             8.8   \n",
       "251149          1994              142  Drama,Romance             8.8   \n",
       "251150          1994              142  Drama,Romance             8.8   \n",
       "251151          1994              142  Drama,Romance             8.8   \n",
       "251152          1994              142  Drama,Romance             8.8   \n",
       "251153          1994              142  Drama,Romance             8.8   \n",
       "251154          1994              142  Drama,Romance             8.8   \n",
       "251155          1994              142  Drama,Romance             8.8   \n",
       "\n",
       "         numVotes  popularity  ... ScienceFiction Sport Talk-Show  Thriller  \\\n",
       "251146  2272161.0         NaN  ...              0     0         0         0   \n",
       "251147  2272161.0         NaN  ...              0     0         0         0   \n",
       "251148  2272161.0         NaN  ...              0     0         0         0   \n",
       "251149  2272161.0         NaN  ...              0     0         0         0   \n",
       "251150  2272161.0         NaN  ...              0     0         0         0   \n",
       "251151  2272161.0         NaN  ...              0     0         0         0   \n",
       "251152  2272161.0         NaN  ...              0     0         0         0   \n",
       "251153  2272161.0         NaN  ...              0     0         0         0   \n",
       "251154  2272161.0         NaN  ...              0     0         0         0   \n",
       "251155  2272161.0         NaN  ...              0     0         0         0   \n",
       "\n",
       "        War  Western  weighted_averageRating    ID_name  actor  actress  \n",
       "251146    0        0                8.799616  nm0000158    1.0      0.0  \n",
       "251147    0        0                8.799616  nm0000705    0.0      1.0  \n",
       "251148    0        0                8.799616  nm0000641    1.0      0.0  \n",
       "251149    0        0                8.799616  nm0000398    0.0      1.0  \n",
       "251150    0        0                8.799616  nm0931508    0.0      1.0  \n",
       "251151    0        0                8.799616  nm0402011    1.0      0.0  \n",
       "251152    0        0                8.799616  nm0381041    1.0      0.0  \n",
       "251153    0        0                8.799616  nm0446404    1.0      0.0  \n",
       "251154    0        0                8.799616  nm0672225    1.0      0.0  \n",
       "251155    0        0                8.799616  nm0709615    1.0      0.0  \n",
       "\n",
       "[10 rows x 42 columns]"
      ]
     },
     "execution_count": 49,
     "metadata": {},
     "output_type": "execute_result"
    }
   ],
   "source": [
    "TmdbCleanDumActor_Final[TmdbCleanDumActor_Final[\"title\"] == 'Forrest Gump']"
   ]
  },
  {
   "cell_type": "markdown",
   "metadata": {},
   "source": [
    "##### Merge nameBasic_Final & mergeTmdb_CleanDum_Final"
   ]
  },
  {
   "cell_type": "code",
   "execution_count": 50,
   "metadata": {},
   "outputs": [],
   "source": [
    "TmdbCleanDumActor_Final = TmdbCleanDumActor_Final.merge(right = nameBasic_Final, on = \"ID_name\", how = 'left')"
   ]
  },
  {
   "cell_type": "code",
   "execution_count": 51,
   "metadata": {},
   "outputs": [
    {
     "name": "stdout",
     "output_type": "stream",
     "text": [
      "<class 'pandas.core.frame.DataFrame'>\n",
      "RangeIndex: 958020 entries, 0 to 958019\n",
      "Data columns (total 47 columns):\n",
      " #   Column                     Non-Null Count   Dtype  \n",
      "---  ------                     --------------   -----  \n",
      " 0   ID_title_x                 958020 non-null  object \n",
      " 1   title                      958020 non-null  object \n",
      " 2   original_title             958020 non-null  object \n",
      " 3   original_language          107031 non-null  object \n",
      " 4   release_year               958020 non-null  int64  \n",
      " 5   runtime_minutes            958020 non-null  int64  \n",
      " 6   genres                     958020 non-null  object \n",
      " 7   average_rating             958020 non-null  float64\n",
      " 8   numVotes                   958020 non-null  float64\n",
      " 9   popularity                 107031 non-null  float64\n",
      " 10  overview                   107031 non-null  object \n",
      " 11  poster_path                105716 non-null  object \n",
      " 12  production_companies_name  105791 non-null  object \n",
      " 13  Action                     958020 non-null  int64  \n",
      " 14  Adventure                  958020 non-null  int64  \n",
      " 15  Animation                  958020 non-null  int64  \n",
      " 16  Biography                  958020 non-null  int64  \n",
      " 17  Comedy                     958020 non-null  int64  \n",
      " 18  Crime                      958020 non-null  int64  \n",
      " 19  Documentary                958020 non-null  int64  \n",
      " 20  Drama                      958020 non-null  int64  \n",
      " 21  Family                     958020 non-null  int64  \n",
      " 22  Fantasy                    958020 non-null  int64  \n",
      " 23  Game-Show                  958020 non-null  int64  \n",
      " 24  History                    958020 non-null  int64  \n",
      " 25  Horror                     958020 non-null  int64  \n",
      " 26  Music                      958020 non-null  int64  \n",
      " 27  Musical                    958020 non-null  int64  \n",
      " 28  Mystery                    958020 non-null  int64  \n",
      " 29  News                       958020 non-null  int64  \n",
      " 30  Reality-TV                 958020 non-null  int64  \n",
      " 31  Romance                    958020 non-null  int64  \n",
      " 32  ScienceFiction             958020 non-null  int64  \n",
      " 33  Sport                      958020 non-null  int64  \n",
      " 34  Talk-Show                  958020 non-null  int64  \n",
      " 35  Thriller                   958020 non-null  int64  \n",
      " 36  War                        958020 non-null  int64  \n",
      " 37  Western                    958020 non-null  int64  \n",
      " 38  weighted_averageRating     958020 non-null  float64\n",
      " 39  ID_name                    952703 non-null  object \n",
      " 40  actor_x                    952703 non-null  float64\n",
      " 41  actress_x                  952703 non-null  float64\n",
      " 42  actor_name                 949991 non-null  object \n",
      " 43  ID_title_y                 949991 non-null  object \n",
      " 44  actor_y                    949991 non-null  float64\n",
      " 45  actress_y                  949991 non-null  float64\n",
      " 46  director                   949991 non-null  float64\n",
      "dtypes: float64(9), int64(27), object(11)\n",
      "memory usage: 343.5+ MB\n",
      "None\n",
      "\n",
      "| ID_title_x   | title                      | original_title       | original_language   | release_year   | runtime_minutes   | genres        | average_rating   | numVotes   | popularity   | overview   | poster_path   | production_companies_name   | Action   | Adventure   | Animation   | Biography   | Comedy   | Crime   | Documentary   | Drama   | Family   | Fantasy   | Game-Show   | History   | Horror   | Music   | Musical   | Mystery   | News   | Reality-TV   | Romance   | ScienceFiction   | Sport   | Talk-Show   | Thriller   | War   | Western   | weighted_averageRating   | ID_name   | actor_x   | actress_x   | actor_name       | ID_title_y   | actor_y   | actress_y   | director   |\n",
      "|:-------------|:---------------------------|:---------------------|:--------------------|:---------------|:------------------|:--------------|:-----------------|:-----------|:-------------|:-----------|:--------------|:----------------------------|:---------|:------------|:------------|:------------|:---------|:--------|:--------------|:--------|:---------|:----------|:------------|:----------|:---------|:--------|:----------|:----------|:-------|:-------------|:----------|:-----------------|:--------|:------------|:-----------|:------|:----------|:-------------------------|:----------|:----------|:------------|:-----------------|:-------------|:----------|:------------|:-----------|\n",
      "| tt0091563    | Moy lyubimyy kloun         | Moy lyubimyy kloun   | nan                 | 1987           | 86                | Drama,Romance | 6.8              | 193        | nan          | nan        | nan           | nan                         | 0        | 0           | 0           | 0           | 0        | 0       | 0             | 1       | 0        | 0         | 0           | 0         | 0        | 0       | 0         | 0         | 0      | 0            | 1         | 0                | 0       | 0           | 0          | 0     | 0         | 6.4424                   | nm0310638 | 1         | 0           | Yevgeny Gavrilin | tt0091563    | 1         | 0           | 0          |\n",
      "| tt0468705    | Until the Lights Come Back | Daiteiden no yoru ni | nan                 | 2005           | 132               | Drama,Romance | 6.8              | 163        | nan          | nan        | nan           | nan                         | 0        | 0           | 0           | 0           | 0        | 0       | 0             | 1       | 0        | 0         | 0           | 0         | 0        | 0       | 0         | 0         | 0      | 0            | 1         | 0                | 0       | 0           | 0          | 0     | 0         | 6.42111                  | nm0846630 | 1         | 0           | Tomorô Taguchi   | tt0096251    | 1         | 0           | 1          |\n"
     ]
    }
   ],
   "source": [
    "print(TmdbCleanDumActor_Final.info())\n",
    "print()\n",
    "print(TmdbCleanDumActor_Final.sample(2).to_markdown(index=False, numalign=\"left\", stralign=\"left\"))"
   ]
  },
  {
   "cell_type": "code",
   "execution_count": 53,
   "metadata": {},
   "outputs": [],
   "source": [
    "# df = TmdbCleanDumActor_Final[TmdbCleanDumActor_Final[\"title\"] == 'Forrest Gump']\n",
    "# df"
   ]
  },
  {
   "cell_type": "markdown",
   "metadata": {},
   "source": [
    "#### ***# Supprimer les colonnes ***"
   ]
  },
  {
   "cell_type": "code",
   "execution_count": 54,
   "metadata": {},
   "outputs": [],
   "source": [
    "TmdbCleanDumActor_Final = TmdbCleanDumActor_Final.drop(columns=['actor_y', 'actress_y', 'ID_title_y'])"
   ]
  },
  {
   "cell_type": "markdown",
   "metadata": {},
   "source": [
    "##### ***Renomme les colonnes***"
   ]
  },
  {
   "cell_type": "code",
   "execution_count": 55,
   "metadata": {},
   "outputs": [],
   "source": [
    "# Renommer les colonnes\n",
    "dict_name= {\n",
    "            'actor_x':'actor',\n",
    "            'actress_x' : 'actress',\n",
    "            'ID_title_x' : 'ID_title' \n",
    "            \n",
    "            }\n",
    "\n",
    "TmdbCleanDumActor_Final = TmdbCleanDumActor_Final.rename(columns=dict_name)"
   ]
  },
  {
   "cell_type": "code",
   "execution_count": 56,
   "metadata": {},
   "outputs": [
    {
     "name": "stdout",
     "output_type": "stream",
     "text": [
      "<class 'pandas.core.frame.DataFrame'>\n",
      "RangeIndex: 958020 entries, 0 to 958019\n",
      "Data columns (total 44 columns):\n",
      " #   Column                     Non-Null Count   Dtype  \n",
      "---  ------                     --------------   -----  \n",
      " 0   ID_title                   958020 non-null  object \n",
      " 1   title                      958020 non-null  object \n",
      " 2   original_title             958020 non-null  object \n",
      " 3   original_language          107031 non-null  object \n",
      " 4   release_year               958020 non-null  int64  \n",
      " 5   runtime_minutes            958020 non-null  int64  \n",
      " 6   genres                     958020 non-null  object \n",
      " 7   average_rating             958020 non-null  float64\n",
      " 8   numVotes                   958020 non-null  float64\n",
      " 9   popularity                 107031 non-null  float64\n",
      " 10  overview                   107031 non-null  object \n",
      " 11  poster_path                105716 non-null  object \n",
      " 12  production_companies_name  105791 non-null  object \n",
      " 13  Action                     958020 non-null  int64  \n",
      " 14  Adventure                  958020 non-null  int64  \n",
      " 15  Animation                  958020 non-null  int64  \n",
      " 16  Biography                  958020 non-null  int64  \n",
      " 17  Comedy                     958020 non-null  int64  \n",
      " 18  Crime                      958020 non-null  int64  \n",
      " 19  Documentary                958020 non-null  int64  \n",
      " 20  Drama                      958020 non-null  int64  \n",
      " 21  Family                     958020 non-null  int64  \n",
      " 22  Fantasy                    958020 non-null  int64  \n",
      " 23  Game-Show                  958020 non-null  int64  \n",
      " 24  History                    958020 non-null  int64  \n",
      " 25  Horror                     958020 non-null  int64  \n",
      " 26  Music                      958020 non-null  int64  \n",
      " 27  Musical                    958020 non-null  int64  \n",
      " 28  Mystery                    958020 non-null  int64  \n",
      " 29  News                       958020 non-null  int64  \n",
      " 30  Reality-TV                 958020 non-null  int64  \n",
      " 31  Romance                    958020 non-null  int64  \n",
      " 32  ScienceFiction             958020 non-null  int64  \n",
      " 33  Sport                      958020 non-null  int64  \n",
      " 34  Talk-Show                  958020 non-null  int64  \n",
      " 35  Thriller                   958020 non-null  int64  \n",
      " 36  War                        958020 non-null  int64  \n",
      " 37  Western                    958020 non-null  int64  \n",
      " 38  weighted_averageRating     958020 non-null  float64\n",
      " 39  ID_name                    952703 non-null  object \n",
      " 40  actor                      952703 non-null  float64\n",
      " 41  actress                    952703 non-null  float64\n",
      " 42  actor_name                 949991 non-null  object \n",
      " 43  director                   949991 non-null  float64\n",
      "dtypes: float64(7), int64(27), object(10)\n",
      "memory usage: 321.6+ MB\n"
     ]
    }
   ],
   "source": [
    "TmdbCleanDumActor_Final.info()"
   ]
  },
  {
   "cell_type": "markdown",
   "metadata": {},
   "source": [
    "#### ***NaN***"
   ]
  },
  {
   "cell_type": "code",
   "execution_count": 63,
   "metadata": {},
   "outputs": [
    {
     "name": "stdout",
     "output_type": "stream",
     "text": [
      "Nombre de NaN par colonne:\n",
      "Colonne ID_title: 0 NaN\n",
      "Colonne title: 0 NaN\n",
      "Colonne original_title: 0 NaN\n",
      "Colonne original_language: 224178 NaN\n",
      "Colonne release_year: 0 NaN\n",
      "Colonne runtime_minutes: 0 NaN\n",
      "Colonne genres: 0 NaN\n",
      "Colonne average_rating: 0 NaN\n",
      "Colonne numVotes: 0 NaN\n",
      "Colonne popularity: 224178 NaN\n",
      "Colonne overview: 224178 NaN\n",
      "Colonne poster_path: 224510 NaN\n",
      "Colonne production_companies_name: 224512 NaN\n",
      "Colonne Action: 0 NaN\n",
      "Colonne Adventure: 0 NaN\n",
      "Colonne Animation: 0 NaN\n",
      "Colonne Biography: 0 NaN\n",
      "Colonne Comedy: 0 NaN\n",
      "Colonne Crime: 0 NaN\n",
      "Colonne Documentary: 0 NaN\n",
      "Colonne Drama: 0 NaN\n",
      "Colonne Family: 0 NaN\n",
      "Colonne Fantasy: 0 NaN\n",
      "Colonne Game-Show: 0 NaN\n",
      "Colonne History: 0 NaN\n",
      "Colonne Horror: 0 NaN\n",
      "Colonne Music: 0 NaN\n",
      "Colonne Musical: 0 NaN\n",
      "Colonne Mystery: 0 NaN\n",
      "Colonne News: 0 NaN\n",
      "Colonne Reality-TV: 0 NaN\n",
      "Colonne Romance: 0 NaN\n",
      "Colonne ScienceFiction: 0 NaN\n",
      "Colonne Sport: 0 NaN\n",
      "Colonne Talk-Show: 0 NaN\n",
      "Colonne Thriller: 0 NaN\n",
      "Colonne War: 0 NaN\n",
      "Colonne Western: 0 NaN\n",
      "Colonne weighted_averageRating: 0 NaN\n",
      "Colonne ID_name: 0 NaN\n",
      "Colonne actor: 0 NaN\n",
      "Colonne actress: 0 NaN\n",
      "Colonne actor_name: 0 NaN\n",
      "Colonne director: 0 NaN\n"
     ]
    }
   ],
   "source": [
    "# Initialisation des comptes de NaN\n",
    "nan_counts_per_column = {}\n",
    "total_nan_counts = 0\n",
    "\n",
    "# Boucle sur chaque colonne et comptage des NaN\n",
    "for column in TmdbCleanDumActor_Final.columns:\n",
    "    nan_count = TmdbCleanDumActor_Final[column].isna().sum()\n",
    "    nan_counts_per_column[column] = nan_count\n",
    "    total_nan_counts += nan_count\n",
    "\n",
    "# Affichage des résultats\n",
    "print(\"Nombre de NaN par colonne:\")\n",
    "for column, count in nan_counts_per_column.items():\n",
    "    print(f\"Colonne {column}: {count} NaN\")"
   ]
  },
  {
   "cell_type": "code",
   "execution_count": 62,
   "metadata": {},
   "outputs": [],
   "source": [
    "TmdbCleanDumActor_Final = TmdbCleanDumActor_Final.dropna(subset='actor_name')"
   ]
  },
  {
   "cell_type": "markdown",
   "metadata": {},
   "source": [
    "### ***Doublons***"
   ]
  },
  {
   "cell_type": "code",
   "execution_count": 57,
   "metadata": {},
   "outputs": [],
   "source": [
    "TmdbCleanDumActor_Final = TmdbCleanDumActor_Final.drop_duplicates()"
   ]
  },
  {
   "cell_type": "code",
   "execution_count": 64,
   "metadata": {},
   "outputs": [
    {
     "name": "stdout",
     "output_type": "stream",
     "text": [
      "<class 'pandas.core.frame.DataFrame'>\n",
      "Index: 251523 entries, 2 to 958016\n",
      "Data columns (total 44 columns):\n",
      " #   Column                     Non-Null Count   Dtype  \n",
      "---  ------                     --------------   -----  \n",
      " 0   ID_title                   251523 non-null  object \n",
      " 1   title                      251523 non-null  object \n",
      " 2   original_title             251523 non-null  object \n",
      " 3   original_language          27345 non-null   object \n",
      " 4   release_year               251523 non-null  int64  \n",
      " 5   runtime_minutes            251523 non-null  int64  \n",
      " 6   genres                     251523 non-null  object \n",
      " 7   average_rating             251523 non-null  float64\n",
      " 8   numVotes                   251523 non-null  float64\n",
      " 9   popularity                 27345 non-null   float64\n",
      " 10  overview                   27345 non-null   object \n",
      " 11  poster_path                27013 non-null   object \n",
      " 12  production_companies_name  27011 non-null   object \n",
      " 13  Action                     251523 non-null  int64  \n",
      " 14  Adventure                  251523 non-null  int64  \n",
      " 15  Animation                  251523 non-null  int64  \n",
      " 16  Biography                  251523 non-null  int64  \n",
      " 17  Comedy                     251523 non-null  int64  \n",
      " 18  Crime                      251523 non-null  int64  \n",
      " 19  Documentary                251523 non-null  int64  \n",
      " 20  Drama                      251523 non-null  int64  \n",
      " 21  Family                     251523 non-null  int64  \n",
      " 22  Fantasy                    251523 non-null  int64  \n",
      " 23  Game-Show                  251523 non-null  int64  \n",
      " 24  History                    251523 non-null  int64  \n",
      " 25  Horror                     251523 non-null  int64  \n",
      " 26  Music                      251523 non-null  int64  \n",
      " 27  Musical                    251523 non-null  int64  \n",
      " 28  Mystery                    251523 non-null  int64  \n",
      " 29  News                       251523 non-null  int64  \n",
      " 30  Reality-TV                 251523 non-null  int64  \n",
      " 31  Romance                    251523 non-null  int64  \n",
      " 32  ScienceFiction             251523 non-null  int64  \n",
      " 33  Sport                      251523 non-null  int64  \n",
      " 34  Talk-Show                  251523 non-null  int64  \n",
      " 35  Thriller                   251523 non-null  int64  \n",
      " 36  War                        251523 non-null  int64  \n",
      " 37  Western                    251523 non-null  int64  \n",
      " 38  weighted_averageRating     251523 non-null  float64\n",
      " 39  ID_name                    251523 non-null  object \n",
      " 40  actor                      251523 non-null  float64\n",
      " 41  actress                    251523 non-null  float64\n",
      " 42  actor_name                 251523 non-null  object \n",
      " 43  director                   251523 non-null  float64\n",
      "dtypes: float64(7), int64(27), object(10)\n",
      "memory usage: 86.4+ MB\n"
     ]
    }
   ],
   "source": [
    "TmdbCleanDumActor_Final.info()"
   ]
  },
  {
   "cell_type": "code",
   "execution_count": 60,
   "metadata": {},
   "outputs": [],
   "source": [
    "#TmdbCleanDumActor_Final[TmdbCleanDumActor_Final[\"actor_name\"] == 'Tom Hanks']"
   ]
  },
  {
   "cell_type": "markdown",
   "metadata": {},
   "source": [
    "##### ***Merge avec titlePrincipalsActorClean_Final***"
   ]
  },
  {
   "cell_type": "code",
   "execution_count": null,
   "metadata": {},
   "outputs": [],
   "source": [
    "TmdbCleanDumActor_Final = mergeTmdb_CleanDum_Final.merge(right = nameBasic_TitlePrincipals, on = \"ID_title\", how = 'left')"
   ]
  },
  {
   "cell_type": "code",
   "execution_count": null,
   "metadata": {},
   "outputs": [],
   "source": [
    "TmdbCleanDumActor_Final.info()"
   ]
  },
  {
   "cell_type": "code",
   "execution_count": null,
   "metadata": {},
   "outputs": [],
   "source": [
    "TmdbCleanDumActor_Final[TmdbCleanDumActor_Final[\"actor_name\"] == 'Tom Hanks']"
   ]
  },
  {
   "cell_type": "code",
   "execution_count": null,
   "metadata": {},
   "outputs": [],
   "source": [
    "print(TmdbCleanDumActor_Final.sample(2).to_markdown(index=False, numalign=\"left\", stralign=\"left\"))"
   ]
  },
  {
   "cell_type": "code",
   "execution_count": null,
   "metadata": {},
   "outputs": [],
   "source": [
    "# supprimer les colonnes \n",
    "TmdbCleanDumActor_Final = TmdbCleanDumActor_Final.drop(columns=['production_companies_name'])"
   ]
  },
  {
   "cell_type": "markdown",
   "metadata": {},
   "source": [
    "### # 1-Sauvegarder en format CSV"
   ]
  },
  {
   "cell_type": "code",
   "execution_count": null,
   "metadata": {},
   "outputs": [],
   "source": [
    "TmdbCleanDumActor_Final.to_csv('TmdbCleanDumActor_Final.csv', index=False)"
   ]
  },
  {
   "cell_type": "code",
   "execution_count": null,
   "metadata": {},
   "outputs": [],
   "source": [
    "# # Affichage de la BDD\n",
    "#TmdbCleanDumActor_Final = pd.read_csv('BDD_CSV/last_BDD/TmdbCleanDumActor_Final.csv')\n",
    "print(TmdbCleanDumActor_Final.info())"
   ]
  },
  {
   "cell_type": "code",
   "execution_count": null,
   "metadata": {},
   "outputs": [],
   "source": [
    "# Initialisation des comptes de NaN\n",
    "nan_counts_per_column = {}\n",
    "total_nan_counts = 0\n",
    "\n",
    "# Boucle sur chaque colonne et comptage des NaN\n",
    "for column in TmdbCleanDumActor_Final.columns:\n",
    "    nan_count = TmdbCleanDumActor_Final[column].isna().sum()\n",
    "    nan_counts_per_column[column] = nan_count\n",
    "    total_nan_counts += nan_count\n",
    "\n",
    "# Affichage des résultats\n",
    "print(\"Nombre de NaN par colonne:\")\n",
    "for column, count in nan_counts_per_column.items():\n",
    "    print(f\"Colonne {column}: {count} NaN\")"
   ]
  },
  {
   "cell_type": "code",
   "execution_count": null,
   "metadata": {},
   "outputs": [],
   "source": [
    "TmdbCleanDumActor_Final = TmdbCleanDumActor_Final.dropna(subset=['actor_name'])"
   ]
  },
  {
   "cell_type": "code",
   "execution_count": 65,
   "metadata": {},
   "outputs": [
    {
     "data": {
      "text/plain": [
       "Index(['ID_title', 'title', 'original_title', 'original_language',\n",
       "       'release_year', 'runtime_minutes', 'genres', 'average_rating',\n",
       "       'numVotes', 'popularity', 'overview', 'poster_path',\n",
       "       'production_companies_name', 'Action', 'Adventure', 'Animation',\n",
       "       'Biography', 'Comedy', 'Crime', 'Documentary', 'Drama', 'Family',\n",
       "       'Fantasy', 'Game-Show', 'History', 'Horror', 'Music', 'Musical',\n",
       "       'Mystery', 'News', 'Reality-TV', 'Romance', 'ScienceFiction', 'Sport',\n",
       "       'Talk-Show', 'Thriller', 'War', 'Western', 'weighted_averageRating',\n",
       "       'ID_name', 'actor', 'actress', 'actor_name', 'director'],\n",
       "      dtype='object')"
      ]
     },
     "execution_count": 65,
     "metadata": {},
     "output_type": "execute_result"
    }
   ],
   "source": [
    "TmdbCleanDumActor_Final.columns"
   ]
  },
  {
   "cell_type": "code",
   "execution_count": 66,
   "metadata": {},
   "outputs": [],
   "source": [
    "# Réorganisation des colonnes de TmdbCleanDumActor_Final dans l'ordre spécifié\n",
    "columns_order = [\n",
    "    'ID_title', 'title', 'original_title', 'ID_name', 'actor_name', \n",
    "    'actor', 'actress','director', 'original_language', 'release_year', 'runtime_minutes','weighted_averageRating',\n",
    "    'average_rating', 'numVotes', 'popularity', 'genres','Action', 'Adventure', 'Biography', \n",
    "    'Crime', 'Documentary', 'Fantasy', 'Game-Show', 'Horror', 'Musical', 'Mystery', 'News', 'Reality-TV', \n",
    "    'Sport', 'Talk-Show', 'Thriller', 'War', 'Western', 'Animation', 'Comedy', 'Drama', 'Family', 'History',\n",
    "    'Music', 'Romance', 'ScienceFiction', 'overview', 'poster_path'\n",
    "]\n",
    "\n",
    "# Réindexation des colonnes\n",
    "TmdbCleanDumActor_Final = TmdbCleanDumActor_Final[columns_order]"
   ]
  },
  {
   "cell_type": "code",
   "execution_count": null,
   "metadata": {},
   "outputs": [],
   "source": [
    "TmdbCleanDumActor_Final.info()"
   ]
  },
  {
   "cell_type": "code",
   "execution_count": 68,
   "metadata": {},
   "outputs": [],
   "source": [
    "#TmdbCleanDumActor_Final[TmdbCleanDumActor_Final[\"actor_name\"] == \"Tom Hanks\"]"
   ]
  },
  {
   "cell_type": "code",
   "execution_count": null,
   "metadata": {},
   "outputs": [],
   "source": [
    "# Initialisation d'un dictionnaire pour stocker le nombre de doublons par colonne\n",
    "duplicate_counts = {}\n",
    "\n",
    "# Pour chaque colonne du DataFrame\n",
    "for col in TmdbCleanDumActor_Final.columns:\n",
    "    # Utilisation de duplicated() pour détecter les doublons\n",
    "    num_duplicates = TmdbCleanDumActor_Final[col].duplicated(keep=False).sum() - TmdbCleanDumActor_Final[col].duplicated(keep='first').sum()\n",
    "    duplicate_counts[col] = num_duplicates\n",
    "\n",
    "# Affichage du nombre de doublons par colonne\n",
    "for col, count in duplicate_counts.items():\n",
    "    print(f\"Colonne '{col}' a {count} doublons\")\n"
   ]
  },
  {
   "cell_type": "code",
   "execution_count": null,
   "metadata": {},
   "outputs": [],
   "source": [
    "# Supprimer les lignes en double\n",
    "TmdbCleanDumActor_Final = TmdbCleanDumActor_Final.drop_duplicates()\n",
    "TmdbCleanDumActor_Final.info()"
   ]
  },
  {
   "cell_type": "markdown",
   "metadata": {},
   "source": [
    "# 1-Sauvegarder en format CSV"
   ]
  },
  {
   "cell_type": "code",
   "execution_count": 72,
   "metadata": {},
   "outputs": [],
   "source": [
    "# 1-Sauvegarder en format CSV\n",
    "TmdbCleanDumActor_Final.to_csv('TmdbCleanDumActor_Final.csv', index=False)"
   ]
  },
  {
   "cell_type": "code",
   "execution_count": null,
   "metadata": {},
   "outputs": [],
   "source": [
    "print(TmdbCleanDumActor_Final['actor'].value_counts(normalize= True)*100)\n",
    "print(TmdbCleanDumActor_Final['actress'].value_counts(normalize= True)*100)\n",
    "print(TmdbCleanDumActor_Final['director'].value_counts(normalize= True)*100)"
   ]
  },
  {
   "cell_type": "code",
   "execution_count": null,
   "metadata": {},
   "outputs": [],
   "source": [
    "TmdbCleanDumActor_Final.info()"
   ]
  },
  {
   "cell_type": "code",
   "execution_count": null,
   "metadata": {},
   "outputs": [],
   "source": [
    "print(TmdbCleanDumActor_Final.sample(5).to_markdown(index=False, numalign=\"left\", stralign=\"left\"))"
   ]
  },
  {
   "cell_type": "code",
   "execution_count": null,
   "metadata": {},
   "outputs": [],
   "source": []
  },
  {
   "cell_type": "code",
   "execution_count": null,
   "metadata": {},
   "outputs": [],
   "source": []
  }
 ],
 "metadata": {
  "kernelspec": {
   "display_name": "base",
   "language": "python",
   "name": "python3"
  },
  "language_info": {
   "codemirror_mode": {
    "name": "ipython",
    "version": 3
   },
   "file_extension": ".py",
   "mimetype": "text/x-python",
   "name": "python",
   "nbconvert_exporter": "python",
   "pygments_lexer": "ipython3",
   "version": "3.11.7"
  }
 },
 "nbformat": 4,
 "nbformat_minor": 2
}
