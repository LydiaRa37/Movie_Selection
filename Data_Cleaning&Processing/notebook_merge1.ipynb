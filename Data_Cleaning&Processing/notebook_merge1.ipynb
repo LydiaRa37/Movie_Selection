{
 "cells": [
  {
   "cell_type": "code",
   "execution_count": 1,
   "metadata": {},
   "outputs": [],
   "source": [
    "# Importation des modules\n",
    "import pandas as pd\n",
    "import numpy as np\n",
    "%matplotlib inline\n",
    "import matplotlib.pyplot as plt\n",
    "import re\n",
    "import seaborn as sns\n",
    "\n",
    "# Définir les options d'affichage pour afficher toutes les lignes sans troncature\n",
    "pd.set_option(\"display.max_rows\",None)\n",
    "pd.set_option(\"display.max_colwidth\",None)\n",
    "\n",
    "# Modifier les options d'affichage pour limiter les décimales\n",
    "pd.set_option('display.float_format', lambda x: '%.2f' % x)"
   ]
  },
  {
   "cell_type": "markdown",
   "metadata": {},
   "source": [
    "# BDD Title_basic"
   ]
  },
  {
   "cell_type": "code",
   "execution_count": 2,
   "metadata": {},
   "outputs": [
    {
     "name": "stderr",
     "output_type": "stream",
     "text": [
      "C:\\Users\\titgr\\AppData\\Local\\Temp\\ipykernel_22976\\1597770290.py:2: DtypeWarning: Columns (4) have mixed types. Specify dtype option on import or set low_memory=False.\n",
      "  title_basic = pd.read_csv(\"data/title.basics.tsv\", sep=\"\\t\")\n"
     ]
    },
    {
     "name": "stdout",
     "output_type": "stream",
     "text": [
      "<class 'pandas.core.frame.DataFrame'>\n",
      "RangeIndex: 10858256 entries, 0 to 10858255\n",
      "Data columns (total 9 columns):\n",
      " #   Column          Dtype \n",
      "---  ------          ----- \n",
      " 0   tconst          object\n",
      " 1   titleType       object\n",
      " 2   primaryTitle    object\n",
      " 3   originalTitle   object\n",
      " 4   isAdult         object\n",
      " 5   startYear       object\n",
      " 6   endYear         object\n",
      " 7   runtimeMinutes  object\n",
      " 8   genres          object\n",
      "dtypes: object(9)\n",
      "memory usage: 745.6+ MB\n",
      "None\n"
     ]
    },
    {
     "data": {
      "text/html": [
       "<div>\n",
       "<style scoped>\n",
       "    .dataframe tbody tr th:only-of-type {\n",
       "        vertical-align: middle;\n",
       "    }\n",
       "\n",
       "    .dataframe tbody tr th {\n",
       "        vertical-align: top;\n",
       "    }\n",
       "\n",
       "    .dataframe thead th {\n",
       "        text-align: right;\n",
       "    }\n",
       "</style>\n",
       "<table border=\"1\" class=\"dataframe\">\n",
       "  <thead>\n",
       "    <tr style=\"text-align: right;\">\n",
       "      <th></th>\n",
       "      <th>tconst</th>\n",
       "      <th>titleType</th>\n",
       "      <th>primaryTitle</th>\n",
       "      <th>originalTitle</th>\n",
       "      <th>isAdult</th>\n",
       "      <th>startYear</th>\n",
       "      <th>endYear</th>\n",
       "      <th>runtimeMinutes</th>\n",
       "      <th>genres</th>\n",
       "    </tr>\n",
       "  </thead>\n",
       "  <tbody>\n",
       "    <tr>\n",
       "      <th>0</th>\n",
       "      <td>tt0000001</td>\n",
       "      <td>short</td>\n",
       "      <td>Carmencita</td>\n",
       "      <td>Carmencita</td>\n",
       "      <td>0</td>\n",
       "      <td>1894</td>\n",
       "      <td>\\N</td>\n",
       "      <td>1</td>\n",
       "      <td>Documentary,Short</td>\n",
       "    </tr>\n",
       "    <tr>\n",
       "      <th>1</th>\n",
       "      <td>tt0000002</td>\n",
       "      <td>short</td>\n",
       "      <td>Le clown et ses chiens</td>\n",
       "      <td>Le clown et ses chiens</td>\n",
       "      <td>0</td>\n",
       "      <td>1892</td>\n",
       "      <td>\\N</td>\n",
       "      <td>5</td>\n",
       "      <td>Animation,Short</td>\n",
       "    </tr>\n",
       "    <tr>\n",
       "      <th>2</th>\n",
       "      <td>tt0000003</td>\n",
       "      <td>short</td>\n",
       "      <td>Pauvre Pierrot</td>\n",
       "      <td>Pauvre Pierrot</td>\n",
       "      <td>0</td>\n",
       "      <td>1892</td>\n",
       "      <td>\\N</td>\n",
       "      <td>5</td>\n",
       "      <td>Animation,Comedy,Romance</td>\n",
       "    </tr>\n",
       "    <tr>\n",
       "      <th>3</th>\n",
       "      <td>tt0000004</td>\n",
       "      <td>short</td>\n",
       "      <td>Un bon bock</td>\n",
       "      <td>Un bon bock</td>\n",
       "      <td>0</td>\n",
       "      <td>1892</td>\n",
       "      <td>\\N</td>\n",
       "      <td>12</td>\n",
       "      <td>Animation,Short</td>\n",
       "    </tr>\n",
       "    <tr>\n",
       "      <th>4</th>\n",
       "      <td>tt0000005</td>\n",
       "      <td>short</td>\n",
       "      <td>Blacksmith Scene</td>\n",
       "      <td>Blacksmith Scene</td>\n",
       "      <td>0</td>\n",
       "      <td>1893</td>\n",
       "      <td>\\N</td>\n",
       "      <td>1</td>\n",
       "      <td>Comedy,Short</td>\n",
       "    </tr>\n",
       "  </tbody>\n",
       "</table>\n",
       "</div>"
      ],
      "text/plain": [
       "      tconst titleType            primaryTitle           originalTitle  \\\n",
       "0  tt0000001     short              Carmencita              Carmencita   \n",
       "1  tt0000002     short  Le clown et ses chiens  Le clown et ses chiens   \n",
       "2  tt0000003     short          Pauvre Pierrot          Pauvre Pierrot   \n",
       "3  tt0000004     short             Un bon bock             Un bon bock   \n",
       "4  tt0000005     short        Blacksmith Scene        Blacksmith Scene   \n",
       "\n",
       "  isAdult startYear endYear runtimeMinutes                    genres  \n",
       "0       0      1894      \\N              1         Documentary,Short  \n",
       "1       0      1892      \\N              5           Animation,Short  \n",
       "2       0      1892      \\N              5  Animation,Comedy,Romance  \n",
       "3       0      1892      \\N             12           Animation,Short  \n",
       "4       0      1893      \\N              1              Comedy,Short  "
      ]
     },
     "execution_count": 2,
     "metadata": {},
     "output_type": "execute_result"
    }
   ],
   "source": [
    "# Chargement de la Bdd et affichage \n",
    "title_basic = pd.read_csv(\"data/title.basics.tsv\", sep=\"\\t\")\n",
    "print(title_basic.info())\n",
    "title_basic.head()"
   ]
  },
  {
   "cell_type": "markdown",
   "metadata": {},
   "source": [
    "### NaN"
   ]
  },
  {
   "cell_type": "code",
   "execution_count": 3,
   "metadata": {},
   "outputs": [],
   "source": [
    "# Transformer les valeurs \\N en NaN\n",
    "title_basic = title_basic.replace(\"\\\\N\", np.nan)"
   ]
  },
  {
   "cell_type": "markdown",
   "metadata": {},
   "source": [
    "##### NaN par colonne"
   ]
  },
  {
   "cell_type": "code",
   "execution_count": 4,
   "metadata": {},
   "outputs": [
    {
     "name": "stdout",
     "output_type": "stream",
     "text": [
      "Nombre de NaN par colonne:\n",
      "Colonne tconst: 0 NaN\n",
      "Colonne titleType: 0 NaN\n",
      "Colonne primaryTitle: 19 NaN\n",
      "Colonne originalTitle: 19 NaN\n",
      "Colonne isAdult: 1 NaN\n",
      "Colonne startYear: 1411924 NaN\n",
      "Colonne endYear: 10732831 NaN\n",
      "Colonne runtimeMinutes: 7495696 NaN\n",
      "Colonne genres: 484258 NaN\n",
      "\n",
      "Nombre total de NaN dans tout le DataFrame:\n",
      "20124748\n"
     ]
    }
   ],
   "source": [
    "# Initialisation des comptes de NaN\n",
    "nan_counts_per_column = {}\n",
    "total_nan_counts = 0\n",
    "\n",
    "# Boucle sur chaque colonne et comptage des NaN\n",
    "for column in title_basic.columns:\n",
    "    nan_count = title_basic[column].isna().sum()\n",
    "    nan_counts_per_column[column] = nan_count\n",
    "    total_nan_counts += nan_count\n",
    "\n",
    "# Affichage des résultats\n",
    "print(\"Nombre de NaN par colonne:\")\n",
    "for column, count in nan_counts_per_column.items():\n",
    "    print(f\"Colonne {column}: {count} NaN\")\n",
    "\n",
    "print(\"\\nNombre total de NaN dans tout le DataFrame:\")\n",
    "print(total_nan_counts)"
   ]
  },
  {
   "cell_type": "markdown",
   "metadata": {},
   "source": [
    "#### Création du dataframe titleBasic_clean"
   ]
  },
  {
   "cell_type": "code",
   "execution_count": 5,
   "metadata": {},
   "outputs": [],
   "source": [
    "# Supprimer la colonne endYear, car \\N 100.0 et pas très utile\n",
    "titleBasic_clean = title_basic.drop(['endYear'], axis = 1)"
   ]
  },
  {
   "cell_type": "code",
   "execution_count": 6,
   "metadata": {},
   "outputs": [
    {
     "data": {
      "text/html": [
       "<div>\n",
       "<style scoped>\n",
       "    .dataframe tbody tr th:only-of-type {\n",
       "        vertical-align: middle;\n",
       "    }\n",
       "\n",
       "    .dataframe tbody tr th {\n",
       "        vertical-align: top;\n",
       "    }\n",
       "\n",
       "    .dataframe thead th {\n",
       "        text-align: right;\n",
       "    }\n",
       "</style>\n",
       "<table border=\"1\" class=\"dataframe\">\n",
       "  <thead>\n",
       "    <tr style=\"text-align: right;\">\n",
       "      <th></th>\n",
       "      <th>tconst</th>\n",
       "      <th>titleType</th>\n",
       "      <th>primaryTitle</th>\n",
       "      <th>originalTitle</th>\n",
       "      <th>isAdult</th>\n",
       "      <th>startYear</th>\n",
       "      <th>runtimeMinutes</th>\n",
       "      <th>genres</th>\n",
       "    </tr>\n",
       "  </thead>\n",
       "  <tbody>\n",
       "    <tr>\n",
       "      <th>0</th>\n",
       "      <td>tt0000001</td>\n",
       "      <td>short</td>\n",
       "      <td>Carmencita</td>\n",
       "      <td>Carmencita</td>\n",
       "      <td>0</td>\n",
       "      <td>1894</td>\n",
       "      <td>1</td>\n",
       "      <td>Documentary,Short</td>\n",
       "    </tr>\n",
       "    <tr>\n",
       "      <th>1</th>\n",
       "      <td>tt0000002</td>\n",
       "      <td>short</td>\n",
       "      <td>Le clown et ses chiens</td>\n",
       "      <td>Le clown et ses chiens</td>\n",
       "      <td>0</td>\n",
       "      <td>1892</td>\n",
       "      <td>5</td>\n",
       "      <td>Animation,Short</td>\n",
       "    </tr>\n",
       "    <tr>\n",
       "      <th>2</th>\n",
       "      <td>tt0000003</td>\n",
       "      <td>short</td>\n",
       "      <td>Pauvre Pierrot</td>\n",
       "      <td>Pauvre Pierrot</td>\n",
       "      <td>0</td>\n",
       "      <td>1892</td>\n",
       "      <td>5</td>\n",
       "      <td>Animation,Comedy,Romance</td>\n",
       "    </tr>\n",
       "    <tr>\n",
       "      <th>3</th>\n",
       "      <td>tt0000004</td>\n",
       "      <td>short</td>\n",
       "      <td>Un bon bock</td>\n",
       "      <td>Un bon bock</td>\n",
       "      <td>0</td>\n",
       "      <td>1892</td>\n",
       "      <td>12</td>\n",
       "      <td>Animation,Short</td>\n",
       "    </tr>\n",
       "    <tr>\n",
       "      <th>4</th>\n",
       "      <td>tt0000005</td>\n",
       "      <td>short</td>\n",
       "      <td>Blacksmith Scene</td>\n",
       "      <td>Blacksmith Scene</td>\n",
       "      <td>0</td>\n",
       "      <td>1893</td>\n",
       "      <td>1</td>\n",
       "      <td>Comedy,Short</td>\n",
       "    </tr>\n",
       "  </tbody>\n",
       "</table>\n",
       "</div>"
      ],
      "text/plain": [
       "      tconst titleType            primaryTitle           originalTitle  \\\n",
       "0  tt0000001     short              Carmencita              Carmencita   \n",
       "1  tt0000002     short  Le clown et ses chiens  Le clown et ses chiens   \n",
       "2  tt0000003     short          Pauvre Pierrot          Pauvre Pierrot   \n",
       "3  tt0000004     short             Un bon bock             Un bon bock   \n",
       "4  tt0000005     short        Blacksmith Scene        Blacksmith Scene   \n",
       "\n",
       "  isAdult startYear runtimeMinutes                    genres  \n",
       "0       0      1894              1         Documentary,Short  \n",
       "1       0      1892              5           Animation,Short  \n",
       "2       0      1892              5  Animation,Comedy,Romance  \n",
       "3       0      1892             12           Animation,Short  \n",
       "4       0      1893              1              Comedy,Short  "
      ]
     },
     "execution_count": 6,
     "metadata": {},
     "output_type": "execute_result"
    }
   ],
   "source": [
    "titleBasic_clean.head()"
   ]
  },
  {
   "cell_type": "code",
   "execution_count": 7,
   "metadata": {},
   "outputs": [
    {
     "name": "stdout",
     "output_type": "stream",
     "text": [
      "Index(['tconst', 'titleType', 'primaryTitle', 'originalTitle', 'isAdult',\n",
      "       'startYear', 'runtimeMinutes', 'genres'],\n",
      "      dtype='object')\n"
     ]
    }
   ],
   "source": [
    "# Affichage des noms de l'ensemble des colonnes \n",
    "print(titleBasic_clean.columns)"
   ]
  },
  {
   "cell_type": "markdown",
   "metadata": {},
   "source": [
    "##### Modification des noms des colonnes "
   ]
  },
  {
   "cell_type": "code",
   "execution_count": 8,
   "metadata": {},
   "outputs": [
    {
     "data": {
      "text/html": [
       "<div>\n",
       "<style scoped>\n",
       "    .dataframe tbody tr th:only-of-type {\n",
       "        vertical-align: middle;\n",
       "    }\n",
       "\n",
       "    .dataframe tbody tr th {\n",
       "        vertical-align: top;\n",
       "    }\n",
       "\n",
       "    .dataframe thead th {\n",
       "        text-align: right;\n",
       "    }\n",
       "</style>\n",
       "<table border=\"1\" class=\"dataframe\">\n",
       "  <thead>\n",
       "    <tr style=\"text-align: right;\">\n",
       "      <th></th>\n",
       "      <th>ID_title</th>\n",
       "      <th>title_type</th>\n",
       "      <th>title</th>\n",
       "      <th>original_title</th>\n",
       "      <th>isAdult</th>\n",
       "      <th>release_year</th>\n",
       "      <th>runtime_minutes</th>\n",
       "      <th>genres</th>\n",
       "    </tr>\n",
       "  </thead>\n",
       "  <tbody>\n",
       "    <tr>\n",
       "      <th>6167023</th>\n",
       "      <td>tt25396732</td>\n",
       "      <td>tvEpisode</td>\n",
       "      <td>Episode #1.87</td>\n",
       "      <td>Episode #1.87</td>\n",
       "      <td>0</td>\n",
       "      <td>2022</td>\n",
       "      <td>NaN</td>\n",
       "      <td>Drama</td>\n",
       "    </tr>\n",
       "  </tbody>\n",
       "</table>\n",
       "</div>"
      ],
      "text/plain": [
       "           ID_title title_type          title original_title isAdult  \\\n",
       "6167023  tt25396732  tvEpisode  Episode #1.87  Episode #1.87       0   \n",
       "\n",
       "        release_year runtime_minutes genres  \n",
       "6167023         2022             NaN  Drama  "
      ]
     },
     "execution_count": 8,
     "metadata": {},
     "output_type": "execute_result"
    }
   ],
   "source": [
    "# Création du dictionnaire associant les anciens noms aux nouveaux noms de colonnes\n",
    "dictionnaire_colonne_title_basic2 = {\n",
    "    \"tconst\": \"ID_title\",\n",
    "    \"titleType\": \"title_type\",\n",
    "    \"primaryTitle\": \"title\",\n",
    "    \"originalTitle\": \"original_title\",\n",
    "    \"isAdult\": \"isAdult\",\n",
    "    \"startYear\": \"release_year\",\n",
    "    \"runtimeMinutes\": \"runtime_minutes\",\n",
    "    \"genres\": \"genres\"\n",
    "}\n",
    "\n",
    "# On renomme les variables grâce à la méthode rename\n",
    "titleBasic_clean = titleBasic_clean.rename(dictionnaire_colonne_title_basic2, axis = 1)\n",
    "\n",
    "# Affichage info\n",
    "titleBasic_clean.sample()"
   ]
  },
  {
   "cell_type": "markdown",
   "metadata": {},
   "source": [
    "##### Conversion des colonnes en numériques"
   ]
  },
  {
   "cell_type": "code",
   "execution_count": 15,
   "metadata": {},
   "outputs": [],
   "source": [
    "# Conversion de la colonne 'runtime_minutes' en entiers numérique, en gérant les valeurs non numériques (NaN)\n",
    "def convert_to_int(val):\n",
    "    try:\n",
    "        return int(float(val))\n",
    "    except (ValueError, TypeError):\n",
    "        return np.nan\n",
    "\n",
    "# Appliquer la fonction à la colonne 'release_year'\n",
    "titleBasic_clean['runtime_minutes'] = titleBasic_clean['runtime_minutes'].apply(convert_to_int)\n",
    "\n",
    "# Vérifiez le type de la colonne\n",
    "titleBasic_clean['runtime_minutes'] = titleBasic_clean['runtime_minutes'].astype('Int64')"
   ]
  },
  {
   "cell_type": "code",
   "execution_count": 12,
   "metadata": {},
   "outputs": [],
   "source": [
    "# Fonction pour convertir en entier, en gérant les valeurs non numériques\n",
    "def convert_to_int(val):\n",
    "    try:\n",
    "        return int(float(val))\n",
    "    except (ValueError, TypeError):\n",
    "        return np.nan\n",
    "\n",
    "# Appliquer la fonction à la colonne 'release_year'\n",
    "titleBasic_clean['release_year'] = titleBasic_clean['release_year'].apply(convert_to_int)\n",
    "\n",
    "# Vérifiez le type de la colonne\n",
    "titleBasic_clean['release_year'] = titleBasic_clean['release_year'].astype('Int64')"
   ]
  },
  {
   "cell_type": "code",
   "execution_count": 13,
   "metadata": {},
   "outputs": [
    {
     "name": "stdout",
     "output_type": "stream",
     "text": [
      "Valeur minimale de 'release_year': 1874\n",
      "Valeur maximale de 'release_year': 2031\n"
     ]
    }
   ],
   "source": [
    "# Obtenir la valeur minimale et maximale de la colonne 'release_Year'\n",
    "min_year = titleBasic_clean['release_year'].min()\n",
    "max_year = titleBasic_clean['release_year'].max()\n",
    "\n",
    "# Afficher les résultats\n",
    "print(f\"Valeur minimale de 'release_year': {min_year}\")\n",
    "print(f\"Valeur maximale de 'release_year': {max_year}\")"
   ]
  },
  {
   "cell_type": "markdown",
   "metadata": {},
   "source": [
    "##### Sélection à partir de la colonne isAdult"
   ]
  },
  {
   "cell_type": "code",
   "execution_count": 16,
   "metadata": {},
   "outputs": [
    {
     "data": {
      "text/plain": [
       "isAdult\n",
       "0       10445336\n",
       "1         346882\n",
       "0          63463\n",
       "1           2072\n",
       "1980          63\n",
       "1978          51\n",
       "1985          46\n",
       "1982          32\n",
       "1972          29\n",
       "2015          28\n",
       "1974          25\n",
       "1984          23\n",
       "1983          22\n",
       "2016          20\n",
       "1981          18\n",
       "2017          17\n",
       "1973          15\n",
       "1979          13\n",
       "1987          13\n",
       "2020           9\n",
       "2018           9\n",
       "1977           9\n",
       "2013           8\n",
       "2019           7\n",
       "2014           6\n",
       "2023           6\n",
       "1966           5\n",
       "1988           5\n",
       "1986           4\n",
       "1968           3\n",
       "2022           2\n",
       "1970           2\n",
       "1971           2\n",
       "1975           2\n",
       "1967           1\n",
       "1964           1\n",
       "1969           1\n",
       "2012           1\n",
       "1976           1\n",
       "2021           1\n",
       "2011           1\n",
       "2005           1\n",
       "Name: count, dtype: int64"
      ]
     },
     "execution_count": 16,
     "metadata": {},
     "output_type": "execute_result"
    }
   ],
   "source": [
    "# Affichage des nombres d'occurences par modalités pour la colonne \"isAdult\"\n",
    "titleBasic_clean['isAdult'].value_counts()"
   ]
  },
  {
   "cell_type": "code",
   "execution_count": 17,
   "metadata": {},
   "outputs": [],
   "source": [
    "# Conserver les lignes où isAdult = 0\n",
    "titleBasic_clean = titleBasic_clean[titleBasic_clean['isAdult'] == 0]"
   ]
  },
  {
   "cell_type": "code",
   "execution_count": 18,
   "metadata": {},
   "outputs": [],
   "source": [
    "# Supprimer la colonne isAdult\n",
    "titleBasic_clean = titleBasic_clean.drop(['isAdult'], axis = 1)"
   ]
  },
  {
   "cell_type": "code",
   "execution_count": 19,
   "metadata": {},
   "outputs": [
    {
     "name": "stdout",
     "output_type": "stream",
     "text": [
      "<class 'pandas.core.frame.DataFrame'>\n",
      "Index: 10445336 entries, 0 to 10858255\n",
      "Data columns (total 7 columns):\n",
      " #   Column           Dtype \n",
      "---  ------           ----- \n",
      " 0   ID_title         object\n",
      " 1   title_type       object\n",
      " 2   title            object\n",
      " 3   original_title   object\n",
      " 4   release_year     Int64 \n",
      " 5   runtime_minutes  Int64 \n",
      " 6   genres           object\n",
      "dtypes: Int64(2), object(5)\n",
      "memory usage: 657.5+ MB\n"
     ]
    }
   ],
   "source": [
    "titleBasic_clean.info()"
   ]
  },
  {
   "cell_type": "markdown",
   "metadata": {},
   "source": [
    "##### Sélection de la modalité \"movie\" dans la colonne title_type"
   ]
  },
  {
   "cell_type": "code",
   "execution_count": 20,
   "metadata": {},
   "outputs": [
    {
     "name": "stdout",
     "output_type": "stream",
     "text": [
      "title_type\n",
      "tvEpisode       8032943\n",
      "short            993014\n",
      "movie            671962\n",
      "tvSeries         261470\n",
      "video            187672\n",
      "tvMovie          147418\n",
      "tvMiniSeries      54371\n",
      "tvSpecial         47622\n",
      "videoGame         38561\n",
      "tvShort           10302\n",
      "tvPilot               1\n",
      "Name: count, dtype: int64\n"
     ]
    }
   ],
   "source": [
    "# Sélection des occurences de la colonne title_type\n",
    "\n",
    "    # Nombre d'occurence \n",
    "print(titleBasic_clean[\"title_type\"].value_counts())"
   ]
  },
  {
   "cell_type": "code",
   "execution_count": 21,
   "metadata": {},
   "outputs": [],
   "source": [
    "# Selection des lignes == movie de la colonne title_type\n",
    "titleBasic_clean = titleBasic_clean[titleBasic_clean[\"title_type\"] == \"movie\"]"
   ]
  },
  {
   "cell_type": "code",
   "execution_count": 22,
   "metadata": {},
   "outputs": [],
   "source": [
    "# Supprimer la colonne title_type\n",
    "titleBasic_clean = titleBasic_clean.drop(columns= \"title_type\", axis=1)"
   ]
  },
  {
   "cell_type": "markdown",
   "metadata": {},
   "source": [
    "##### Sélection année dans la colonne release Year"
   ]
  },
  {
   "cell_type": "code",
   "execution_count": 23,
   "metadata": {},
   "outputs": [],
   "source": [
    "# Selection de la colonne release Year pour avoir film >= 1985 (Choix arbitraire, à justifier)\n",
    "titleBasic_clean = titleBasic_clean[titleBasic_clean['release_year'] >= 1985]"
   ]
  },
  {
   "cell_type": "code",
   "execution_count": 25,
   "metadata": {},
   "outputs": [
    {
     "name": "stdout",
     "output_type": "stream",
     "text": [
      "<class 'pandas.core.frame.DataFrame'>\n",
      "Index: 391474 entries, 11634 to 10858206\n",
      "Data columns (total 6 columns):\n",
      " #   Column           Non-Null Count   Dtype \n",
      "---  ------           --------------   ----- \n",
      " 0   ID_title         391474 non-null  object\n",
      " 1   title            391472 non-null  object\n",
      " 2   original_title   391472 non-null  object\n",
      " 3   release_year     391474 non-null  Int64 \n",
      " 4   runtime_minutes  300252 non-null  Int64 \n",
      " 5   genres           364005 non-null  object\n",
      "dtypes: Int64(2), object(4)\n",
      "memory usage: 21.7+ MB\n",
      "None\n"
     ]
    },
    {
     "data": {
      "text/html": [
       "<div>\n",
       "<style scoped>\n",
       "    .dataframe tbody tr th:only-of-type {\n",
       "        vertical-align: middle;\n",
       "    }\n",
       "\n",
       "    .dataframe tbody tr th {\n",
       "        vertical-align: top;\n",
       "    }\n",
       "\n",
       "    .dataframe thead th {\n",
       "        text-align: right;\n",
       "    }\n",
       "</style>\n",
       "<table border=\"1\" class=\"dataframe\">\n",
       "  <thead>\n",
       "    <tr style=\"text-align: right;\">\n",
       "      <th></th>\n",
       "      <th>ID_title</th>\n",
       "      <th>title</th>\n",
       "      <th>original_title</th>\n",
       "      <th>release_year</th>\n",
       "      <th>runtime_minutes</th>\n",
       "      <th>genres</th>\n",
       "    </tr>\n",
       "  </thead>\n",
       "  <tbody>\n",
       "    <tr>\n",
       "      <th>11634</th>\n",
       "      <td>tt0011801</td>\n",
       "      <td>Tötet nicht mehr</td>\n",
       "      <td>Tötet nicht mehr</td>\n",
       "      <td>2019</td>\n",
       "      <td>&lt;NA&gt;</td>\n",
       "      <td>Action,Crime</td>\n",
       "    </tr>\n",
       "    <tr>\n",
       "      <th>13079</th>\n",
       "      <td>tt0013274</td>\n",
       "      <td>Istoriya grazhdanskoy voyny</td>\n",
       "      <td>Istoriya grazhdanskoy voyny</td>\n",
       "      <td>2021</td>\n",
       "      <td>94</td>\n",
       "      <td>Documentary</td>\n",
       "    </tr>\n",
       "    <tr>\n",
       "      <th>15174</th>\n",
       "      <td>tt0015414</td>\n",
       "      <td>La tierra de los toros</td>\n",
       "      <td>La tierra de los toros</td>\n",
       "      <td>2000</td>\n",
       "      <td>60</td>\n",
       "      <td>NaN</td>\n",
       "    </tr>\n",
       "  </tbody>\n",
       "</table>\n",
       "</div>"
      ],
      "text/plain": [
       "        ID_title                        title               original_title  \\\n",
       "11634  tt0011801             Tötet nicht mehr             Tötet nicht mehr   \n",
       "13079  tt0013274  Istoriya grazhdanskoy voyny  Istoriya grazhdanskoy voyny   \n",
       "15174  tt0015414       La tierra de los toros       La tierra de los toros   \n",
       "\n",
       "       release_year  runtime_minutes        genres  \n",
       "11634          2019             <NA>  Action,Crime  \n",
       "13079          2021               94   Documentary  \n",
       "15174          2000               60           NaN  "
      ]
     },
     "execution_count": 25,
     "metadata": {},
     "output_type": "execute_result"
    }
   ],
   "source": [
    "print(titleBasic_clean.info())\n",
    "titleBasic_clean.head(3)"
   ]
  },
  {
   "cell_type": "markdown",
   "metadata": {},
   "source": [
    "## Gestion des Doublons"
   ]
  },
  {
   "cell_type": "code",
   "execution_count": 26,
   "metadata": {},
   "outputs": [
    {
     "name": "stdout",
     "output_type": "stream",
     "text": [
      "Colonne 'ID_title' a 0 doublons\n",
      "Colonne 'title' a 20342 doublons\n",
      "Colonne 'original_title' a 17875 doublons\n",
      "Colonne 'release_year' a 44 doublons\n",
      "Colonne 'runtime_minutes' a 359 doublons\n",
      "Colonne 'genres' a 993 doublons\n"
     ]
    }
   ],
   "source": [
    "# Initialisation d'un dictionnaire pour stocker le nombre de doublons par colonne\n",
    "duplicate_counts = {}\n",
    "\n",
    "# Pour chaque colonne du DataFrame\n",
    "for col in titleBasic_clean.columns:\n",
    "    # Utilisation de duplicated() pour détecter les doublons\n",
    "    num_duplicates = titleBasic_clean[col].duplicated(keep=False).sum() - titleBasic_clean[col].duplicated(keep='first').sum()\n",
    "    duplicate_counts[col] = num_duplicates\n",
    "\n",
    "# Affichage du nombre de doublons par colonne\n",
    "for col, count in duplicate_counts.items():\n",
    "    print(f\"Colonne '{col}' a {count} doublons\")"
   ]
  },
  {
   "cell_type": "markdown",
   "metadata": {},
   "source": [
    "La colonne ID_title n'a pas de doublon. "
   ]
  },
  {
   "cell_type": "code",
   "execution_count": 30,
   "metadata": {},
   "outputs": [
    {
     "data": {
      "text/html": [
       "<div>\n",
       "<style scoped>\n",
       "    .dataframe tbody tr th:only-of-type {\n",
       "        vertical-align: middle;\n",
       "    }\n",
       "\n",
       "    .dataframe tbody tr th {\n",
       "        vertical-align: top;\n",
       "    }\n",
       "\n",
       "    .dataframe thead th {\n",
       "        text-align: right;\n",
       "    }\n",
       "</style>\n",
       "<table border=\"1\" class=\"dataframe\">\n",
       "  <thead>\n",
       "    <tr style=\"text-align: right;\">\n",
       "      <th></th>\n",
       "      <th>ID_title</th>\n",
       "      <th>title</th>\n",
       "      <th>original_title</th>\n",
       "      <th>release_year</th>\n",
       "      <th>runtime_minutes</th>\n",
       "      <th>genres</th>\n",
       "    </tr>\n",
       "  </thead>\n",
       "  <tbody>\n",
       "    <tr>\n",
       "      <th>87400</th>\n",
       "      <td>tt0089378</td>\n",
       "      <td>Making Contact</td>\n",
       "      <td>Joey</td>\n",
       "      <td>1985</td>\n",
       "      <td>98</td>\n",
       "      <td>Action,Adventure,Drama</td>\n",
       "    </tr>\n",
       "    <tr>\n",
       "      <th>88586</th>\n",
       "      <td>tt0090590</td>\n",
       "      <td>Adela</td>\n",
       "      <td>Adela</td>\n",
       "      <td>1987</td>\n",
       "      <td>92</td>\n",
       "      <td>Thriller</td>\n",
       "    </tr>\n",
       "    <tr>\n",
       "      <th>89290</th>\n",
       "      <td>tt0091312</td>\n",
       "      <td>Jwala</td>\n",
       "      <td>Jwala</td>\n",
       "      <td>1986</td>\n",
       "      <td>&lt;NA&gt;</td>\n",
       "      <td>Action,Drama,Thriller</td>\n",
       "    </tr>\n",
       "    <tr>\n",
       "      <th>89451</th>\n",
       "      <td>tt0091475</td>\n",
       "      <td>Mania: The Intruder</td>\n",
       "      <td>Mania</td>\n",
       "      <td>1986</td>\n",
       "      <td>87</td>\n",
       "      <td>Drama,Horror,Mystery</td>\n",
       "    </tr>\n",
       "    <tr>\n",
       "      <th>89571</th>\n",
       "      <td>tt0091598</td>\n",
       "      <td>Naam</td>\n",
       "      <td>Naam</td>\n",
       "      <td>1986</td>\n",
       "      <td>177</td>\n",
       "      <td>Action,Crime,Drama</td>\n",
       "    </tr>\n",
       "  </tbody>\n",
       "</table>\n",
       "</div>"
      ],
      "text/plain": [
       "        ID_title                title original_title  release_year  \\\n",
       "87400  tt0089378       Making Contact           Joey          1985   \n",
       "88586  tt0090590                Adela          Adela          1987   \n",
       "89290  tt0091312                Jwala          Jwala          1986   \n",
       "89451  tt0091475  Mania: The Intruder          Mania          1986   \n",
       "89571  tt0091598                 Naam           Naam          1986   \n",
       "\n",
       "       runtime_minutes                  genres  \n",
       "87400               98  Action,Adventure,Drama  \n",
       "88586               92                Thriller  \n",
       "89290             <NA>   Action,Drama,Thriller  \n",
       "89451               87    Drama,Horror,Mystery  \n",
       "89571              177      Action,Crime,Drama  "
      ]
     },
     "execution_count": 30,
     "metadata": {},
     "output_type": "execute_result"
    }
   ],
   "source": [
    "# Afficher les lignes qui sont des doublons dans la colonne 'original_title'\n",
    "duplicates = titleBasic_clean[titleBasic_clean.duplicated('title')]\n",
    "\n",
    "# Afficher les doublons pour la colonne 'original_title'\n",
    "duplicates.head()"
   ]
  },
  {
   "cell_type": "code",
   "execution_count": 31,
   "metadata": {},
   "outputs": [
    {
     "data": {
      "text/plain": [
       "4"
      ]
     },
     "execution_count": 31,
     "metadata": {},
     "output_type": "execute_result"
    }
   ],
   "source": [
    "# Compter les occurrences d'un titre dans la colonne 'original_title'\n",
    "occurence_counts = titleBasic_clean['title'].value_counts().get('Adela', 0)\n",
    "occurence_counts"
   ]
  },
  {
   "cell_type": "code",
   "execution_count": 33,
   "metadata": {},
   "outputs": [
    {
     "data": {
      "text/html": [
       "<div>\n",
       "<style scoped>\n",
       "    .dataframe tbody tr th:only-of-type {\n",
       "        vertical-align: middle;\n",
       "    }\n",
       "\n",
       "    .dataframe tbody tr th {\n",
       "        vertical-align: top;\n",
       "    }\n",
       "\n",
       "    .dataframe thead th {\n",
       "        text-align: right;\n",
       "    }\n",
       "</style>\n",
       "<table border=\"1\" class=\"dataframe\">\n",
       "  <thead>\n",
       "    <tr style=\"text-align: right;\">\n",
       "      <th></th>\n",
       "      <th>ID_title</th>\n",
       "      <th>title</th>\n",
       "      <th>original_title</th>\n",
       "      <th>release_year</th>\n",
       "      <th>runtime_minutes</th>\n",
       "      <th>genres</th>\n",
       "    </tr>\n",
       "  </thead>\n",
       "  <tbody>\n",
       "    <tr>\n",
       "      <th>86704</th>\n",
       "      <td>tt0088669</td>\n",
       "      <td>Adela</td>\n",
       "      <td>Adela</td>\n",
       "      <td>1985</td>\n",
       "      <td>80</td>\n",
       "      <td>Drama</td>\n",
       "    </tr>\n",
       "    <tr>\n",
       "      <th>88586</th>\n",
       "      <td>tt0090590</td>\n",
       "      <td>Adela</td>\n",
       "      <td>Adela</td>\n",
       "      <td>1987</td>\n",
       "      <td>92</td>\n",
       "      <td>Thriller</td>\n",
       "    </tr>\n",
       "    <tr>\n",
       "      <th>234692</th>\n",
       "      <td>tt0245066</td>\n",
       "      <td>Adela</td>\n",
       "      <td>Adela</td>\n",
       "      <td>2000</td>\n",
       "      <td>103</td>\n",
       "      <td>Thriller</td>\n",
       "    </tr>\n",
       "    <tr>\n",
       "      <th>2112644</th>\n",
       "      <td>tt1206475</td>\n",
       "      <td>Adela</td>\n",
       "      <td>Adela</td>\n",
       "      <td>2008</td>\n",
       "      <td>88</td>\n",
       "      <td>Drama</td>\n",
       "    </tr>\n",
       "  </tbody>\n",
       "</table>\n",
       "</div>"
      ],
      "text/plain": [
       "          ID_title  title original_title  release_year  runtime_minutes  \\\n",
       "86704    tt0088669  Adela          Adela          1985               80   \n",
       "88586    tt0090590  Adela          Adela          1987               92   \n",
       "234692   tt0245066  Adela          Adela          2000              103   \n",
       "2112644  tt1206475  Adela          Adela          2008               88   \n",
       "\n",
       "           genres  \n",
       "86704       Drama  \n",
       "88586    Thriller  \n",
       "234692   Thriller  \n",
       "2112644     Drama  "
      ]
     },
     "execution_count": 33,
     "metadata": {},
     "output_type": "execute_result"
    }
   ],
   "source": [
    "df_Adela = titleBasic_clean[titleBasic_clean['title'] == 'Adela']\n",
    "df_Adela"
   ]
  },
  {
   "cell_type": "markdown",
   "metadata": {},
   "source": [
    "Les versions sorties après 1985 sont sans doute des versions remasterisées. On conserve uniquement la version original, donc la 1ère sortie."
   ]
  },
  {
   "cell_type": "code",
   "execution_count": 34,
   "metadata": {},
   "outputs": [],
   "source": [
    "# Supprimer les lignes en double dans la colonne 'title', en conservant explicitement la première occurrence\n",
    "titleBasic_clean = titleBasic_clean.drop_duplicates(subset='title', keep='first')"
   ]
  },
  {
   "cell_type": "code",
   "execution_count": 35,
   "metadata": {},
   "outputs": [
    {
     "data": {
      "text/html": [
       "<div>\n",
       "<style scoped>\n",
       "    .dataframe tbody tr th:only-of-type {\n",
       "        vertical-align: middle;\n",
       "    }\n",
       "\n",
       "    .dataframe tbody tr th {\n",
       "        vertical-align: top;\n",
       "    }\n",
       "\n",
       "    .dataframe thead th {\n",
       "        text-align: right;\n",
       "    }\n",
       "</style>\n",
       "<table border=\"1\" class=\"dataframe\">\n",
       "  <thead>\n",
       "    <tr style=\"text-align: right;\">\n",
       "      <th></th>\n",
       "      <th>ID_title</th>\n",
       "      <th>title</th>\n",
       "      <th>original_title</th>\n",
       "      <th>release_year</th>\n",
       "      <th>runtime_minutes</th>\n",
       "      <th>genres</th>\n",
       "    </tr>\n",
       "  </thead>\n",
       "  <tbody>\n",
       "    <tr>\n",
       "      <th>86704</th>\n",
       "      <td>tt0088669</td>\n",
       "      <td>Adela</td>\n",
       "      <td>Adela</td>\n",
       "      <td>1985</td>\n",
       "      <td>80</td>\n",
       "      <td>Drama</td>\n",
       "    </tr>\n",
       "  </tbody>\n",
       "</table>\n",
       "</div>"
      ],
      "text/plain": [
       "        ID_title  title original_title  release_year  runtime_minutes genres\n",
       "86704  tt0088669  Adela          Adela          1985               80  Drama"
      ]
     },
     "execution_count": 35,
     "metadata": {},
     "output_type": "execute_result"
    }
   ],
   "source": [
    "df_Adela_clean = titleBasic_clean[titleBasic_clean['title'] == 'Adela']\n",
    "df_Adela_clean"
   ]
  },
  {
   "cell_type": "code",
   "execution_count": 36,
   "metadata": {},
   "outputs": [
    {
     "data": {
      "text/plain": [
       "1"
      ]
     },
     "execution_count": 36,
     "metadata": {},
     "output_type": "execute_result"
    }
   ],
   "source": [
    "# Compter les occurrences du mot 'Adela' dans la colonne 'original_title'\n",
    "occurence_count_original_title = titleBasic_clean['original_title'].value_counts().get('Adela', 0)\n",
    "occurence_count_original_title"
   ]
  },
  {
   "cell_type": "code",
   "execution_count": 37,
   "metadata": {},
   "outputs": [
    {
     "name": "stdout",
     "output_type": "stream",
     "text": [
      "Colonne 'ID_title' a 0 doublons\n",
      "Colonne 'title' a 0 doublons\n",
      "Colonne 'original_title' a 1302 doublons\n",
      "Colonne 'release_year' a 44 doublons\n",
      "Colonne 'runtime_minutes' a 351 doublons\n",
      "Colonne 'genres' a 970 doublons\n"
     ]
    }
   ],
   "source": [
    "# Initialisation d'un dictionnaire pour stocker le nombre de doublons par colonne\n",
    "duplicate_counts = {}\n",
    "\n",
    "# Pour chaque colonne du DataFrame\n",
    "for col in titleBasic_clean.columns:\n",
    "    # Utilisation de duplicated() pour détecter les doublons\n",
    "    num_duplicates = titleBasic_clean[col].duplicated(keep=False).sum() - titleBasic_clean[col].duplicated(keep='first').sum()\n",
    "    duplicate_counts[col] = num_duplicates\n",
    "\n",
    "# Affichage du nombre de doublons par colonne\n",
    "for col, count in duplicate_counts.items():\n",
    "    print(f\"Colonne '{col}' a {count} doublons\")"
   ]
  },
  {
   "cell_type": "code",
   "execution_count": 38,
   "metadata": {},
   "outputs": [
    {
     "data": {
      "text/html": [
       "<div>\n",
       "<style scoped>\n",
       "    .dataframe tbody tr th:only-of-type {\n",
       "        vertical-align: middle;\n",
       "    }\n",
       "\n",
       "    .dataframe tbody tr th {\n",
       "        vertical-align: top;\n",
       "    }\n",
       "\n",
       "    .dataframe thead th {\n",
       "        text-align: right;\n",
       "    }\n",
       "</style>\n",
       "<table border=\"1\" class=\"dataframe\">\n",
       "  <thead>\n",
       "    <tr style=\"text-align: right;\">\n",
       "      <th></th>\n",
       "      <th>ID_title</th>\n",
       "      <th>title</th>\n",
       "      <th>original_title</th>\n",
       "      <th>release_year</th>\n",
       "      <th>runtime_minutes</th>\n",
       "      <th>genres</th>\n",
       "    </tr>\n",
       "  </thead>\n",
       "  <tbody>\n",
       "    <tr>\n",
       "      <th>87400</th>\n",
       "      <td>tt0089378</td>\n",
       "      <td>Making Contact</td>\n",
       "      <td>Joey</td>\n",
       "      <td>1985</td>\n",
       "      <td>98</td>\n",
       "      <td>Action,Adventure,Drama</td>\n",
       "    </tr>\n",
       "    <tr>\n",
       "      <th>89451</th>\n",
       "      <td>tt0091475</td>\n",
       "      <td>Mania: The Intruder</td>\n",
       "      <td>Mania</td>\n",
       "      <td>1986</td>\n",
       "      <td>87</td>\n",
       "      <td>Drama,Horror,Mystery</td>\n",
       "    </tr>\n",
       "    <tr>\n",
       "      <th>95239</th>\n",
       "      <td>tt0097414</td>\n",
       "      <td>Money</td>\n",
       "      <td>Geld</td>\n",
       "      <td>1989</td>\n",
       "      <td>98</td>\n",
       "      <td>Comedy</td>\n",
       "    </tr>\n",
       "    <tr>\n",
       "      <th>96096</th>\n",
       "      <td>tt0098284</td>\n",
       "      <td>Four Loves</td>\n",
       "      <td>Si qian jin</td>\n",
       "      <td>1989</td>\n",
       "      <td>97</td>\n",
       "      <td>Comedy,Drama,Romance</td>\n",
       "    </tr>\n",
       "    <tr>\n",
       "      <th>96112</th>\n",
       "      <td>tt0098300</td>\n",
       "      <td>Shag</td>\n",
       "      <td>Shag</td>\n",
       "      <td>1988</td>\n",
       "      <td>98</td>\n",
       "      <td>Comedy,Drama,Romance</td>\n",
       "    </tr>\n",
       "  </tbody>\n",
       "</table>\n",
       "</div>"
      ],
      "text/plain": [
       "        ID_title                title original_title  release_year  \\\n",
       "87400  tt0089378       Making Contact           Joey          1985   \n",
       "89451  tt0091475  Mania: The Intruder          Mania          1986   \n",
       "95239  tt0097414                Money           Geld          1989   \n",
       "96096  tt0098284           Four Loves    Si qian jin          1989   \n",
       "96112  tt0098300                 Shag           Shag          1988   \n",
       "\n",
       "       runtime_minutes                  genres  \n",
       "87400               98  Action,Adventure,Drama  \n",
       "89451               87    Drama,Horror,Mystery  \n",
       "95239               98                  Comedy  \n",
       "96096               97    Comedy,Drama,Romance  \n",
       "96112               98    Comedy,Drama,Romance  "
      ]
     },
     "execution_count": 38,
     "metadata": {},
     "output_type": "execute_result"
    }
   ],
   "source": [
    "# Afficher les lignes qui sont des doublons dans la colonne 'original_title'\n",
    "duplicates = titleBasic_clean[titleBasic_clean.duplicated('original_title')]\n",
    "\n",
    "# Afficher les doublons pour la colonne 'original_title'\n",
    "duplicates.head()"
   ]
  },
  {
   "cell_type": "code",
   "execution_count": 39,
   "metadata": {},
   "outputs": [
    {
     "data": {
      "text/plain": [
       "2"
      ]
     },
     "execution_count": 39,
     "metadata": {},
     "output_type": "execute_result"
    }
   ],
   "source": [
    "# Compter les occurrences d'un titre dans la colonne 'original_title'\n",
    "occurence_counts = titleBasic_clean['original_title'].value_counts().get('Joey', 0)\n",
    "occurence_counts"
   ]
  },
  {
   "cell_type": "code",
   "execution_count": 40,
   "metadata": {},
   "outputs": [
    {
     "data": {
      "text/html": [
       "<div>\n",
       "<style scoped>\n",
       "    .dataframe tbody tr th:only-of-type {\n",
       "        vertical-align: middle;\n",
       "    }\n",
       "\n",
       "    .dataframe tbody tr th {\n",
       "        vertical-align: top;\n",
       "    }\n",
       "\n",
       "    .dataframe thead th {\n",
       "        text-align: right;\n",
       "    }\n",
       "</style>\n",
       "<table border=\"1\" class=\"dataframe\">\n",
       "  <thead>\n",
       "    <tr style=\"text-align: right;\">\n",
       "      <th></th>\n",
       "      <th>ID_title</th>\n",
       "      <th>title</th>\n",
       "      <th>original_title</th>\n",
       "      <th>release_year</th>\n",
       "      <th>runtime_minutes</th>\n",
       "      <th>genres</th>\n",
       "    </tr>\n",
       "  </thead>\n",
       "  <tbody>\n",
       "    <tr>\n",
       "      <th>87399</th>\n",
       "      <td>tt0089377</td>\n",
       "      <td>Joey</td>\n",
       "      <td>Joey</td>\n",
       "      <td>1986</td>\n",
       "      <td>97</td>\n",
       "      <td>Drama</td>\n",
       "    </tr>\n",
       "    <tr>\n",
       "      <th>87400</th>\n",
       "      <td>tt0089378</td>\n",
       "      <td>Making Contact</td>\n",
       "      <td>Joey</td>\n",
       "      <td>1985</td>\n",
       "      <td>98</td>\n",
       "      <td>Action,Adventure,Drama</td>\n",
       "    </tr>\n",
       "  </tbody>\n",
       "</table>\n",
       "</div>"
      ],
      "text/plain": [
       "        ID_title           title original_title  release_year  \\\n",
       "87399  tt0089377            Joey           Joey          1986   \n",
       "87400  tt0089378  Making Contact           Joey          1985   \n",
       "\n",
       "       runtime_minutes                  genres  \n",
       "87399               97                   Drama  \n",
       "87400               98  Action,Adventure,Drama  "
      ]
     },
     "execution_count": 40,
     "metadata": {},
     "output_type": "execute_result"
    }
   ],
   "source": [
    "df_Joey= titleBasic_clean[titleBasic_clean['original_title'] == 'Joey']\n",
    "df_Joey"
   ]
  },
  {
   "cell_type": "code",
   "execution_count": 41,
   "metadata": {},
   "outputs": [
    {
     "data": {
      "text/html": [
       "<div>\n",
       "<style scoped>\n",
       "    .dataframe tbody tr th:only-of-type {\n",
       "        vertical-align: middle;\n",
       "    }\n",
       "\n",
       "    .dataframe tbody tr th {\n",
       "        vertical-align: top;\n",
       "    }\n",
       "\n",
       "    .dataframe thead th {\n",
       "        text-align: right;\n",
       "    }\n",
       "</style>\n",
       "<table border=\"1\" class=\"dataframe\">\n",
       "  <thead>\n",
       "    <tr style=\"text-align: right;\">\n",
       "      <th></th>\n",
       "      <th>ID_title</th>\n",
       "      <th>title</th>\n",
       "      <th>original_title</th>\n",
       "      <th>release_year</th>\n",
       "      <th>runtime_minutes</th>\n",
       "      <th>genres</th>\n",
       "    </tr>\n",
       "  </thead>\n",
       "  <tbody>\n",
       "    <tr>\n",
       "      <th>93971</th>\n",
       "      <td>tt0096105</td>\n",
       "      <td>Si qian jin</td>\n",
       "      <td>Si qian jin</td>\n",
       "      <td>1988</td>\n",
       "      <td>&lt;NA&gt;</td>\n",
       "      <td>NaN</td>\n",
       "    </tr>\n",
       "    <tr>\n",
       "      <th>96096</th>\n",
       "      <td>tt0098284</td>\n",
       "      <td>Four Loves</td>\n",
       "      <td>Si qian jin</td>\n",
       "      <td>1989</td>\n",
       "      <td>97</td>\n",
       "      <td>Comedy,Drama,Romance</td>\n",
       "    </tr>\n",
       "  </tbody>\n",
       "</table>\n",
       "</div>"
      ],
      "text/plain": [
       "        ID_title        title original_title  release_year  runtime_minutes  \\\n",
       "93971  tt0096105  Si qian jin    Si qian jin          1988             <NA>   \n",
       "96096  tt0098284   Four Loves    Si qian jin          1989               97   \n",
       "\n",
       "                     genres  \n",
       "93971                   NaN  \n",
       "96096  Comedy,Drama,Romance  "
      ]
     },
     "execution_count": 41,
     "metadata": {},
     "output_type": "execute_result"
    }
   ],
   "source": [
    "df_Siqianjin = titleBasic_clean[titleBasic_clean['original_title'] == 'Si qian jin']\n",
    "df_Siqianjin"
   ]
  },
  {
   "cell_type": "code",
   "execution_count": 42,
   "metadata": {},
   "outputs": [
    {
     "name": "stderr",
     "output_type": "stream",
     "text": [
      "C:\\Users\\titgr\\AppData\\Local\\Temp\\ipykernel_22976\\3431865491.py:4: SettingWithCopyWarning: \n",
      "A value is trying to be set on a copy of a slice from a DataFrame.\n",
      "Try using .loc[row_indexer,col_indexer] = value instead\n",
      "\n",
      "See the caveats in the documentation: https://pandas.pydata.org/pandas-docs/stable/user_guide/indexing.html#returning-a-view-versus-a-copy\n",
      "  titleBasic_clean['na_count'] = titleBasic_clean.isna().sum(axis=1)\n"
     ]
    },
    {
     "name": "stdout",
     "output_type": "stream",
     "text": [
      "<class 'pandas.core.frame.DataFrame'>\n",
      "Index: 348394 entries, 4881963 to 348953\n",
      "Data columns (total 6 columns):\n",
      " #   Column           Non-Null Count   Dtype \n",
      "---  ------           --------------   ----- \n",
      " 0   ID_title         348394 non-null  object\n",
      " 1   title            348393 non-null  object\n",
      " 2   original_title   348393 non-null  object\n",
      " 3   release_year     348394 non-null  Int64 \n",
      " 4   runtime_minutes  266753 non-null  Int64 \n",
      " 5   genres           323317 non-null  object\n",
      "dtypes: Int64(2), object(4)\n",
      "memory usage: 19.3+ MB\n"
     ]
    }
   ],
   "source": [
    "# Supprimer les lignes en double dans la colonne 'original_title', en conservant l'occurence qui n'a pas de NaN dans la ligne\n",
    "\n",
    "# Classer de manière à ce que les lignes sans NaN viennent en premier\n",
    "titleBasic_clean['na_count'] = titleBasic_clean.isna().sum(axis=1)\n",
    "titleBasic_clean = titleBasic_clean.sort_values(by='na_count')\n",
    "\n",
    "# Supprimer les lignes en double en gardant la première occurrence (lignes sans NaN seront prioritaires)\n",
    "titleBasic_clean = titleBasic_clean.drop_duplicates(subset='original_title')\n",
    "\n",
    "# Retirer la colonne temporaire utilisée pour le classement\n",
    "titleBasic_clean = titleBasic_clean.drop(columns=['na_count'])\n",
    "\n",
    "titleBasic_clean.info()"
   ]
  },
  {
   "cell_type": "code",
   "execution_count": 43,
   "metadata": {},
   "outputs": [
    {
     "data": {
      "text/html": [
       "<div>\n",
       "<style scoped>\n",
       "    .dataframe tbody tr th:only-of-type {\n",
       "        vertical-align: middle;\n",
       "    }\n",
       "\n",
       "    .dataframe tbody tr th {\n",
       "        vertical-align: top;\n",
       "    }\n",
       "\n",
       "    .dataframe thead th {\n",
       "        text-align: right;\n",
       "    }\n",
       "</style>\n",
       "<table border=\"1\" class=\"dataframe\">\n",
       "  <thead>\n",
       "    <tr style=\"text-align: right;\">\n",
       "      <th></th>\n",
       "      <th>ID_title</th>\n",
       "      <th>title</th>\n",
       "      <th>original_title</th>\n",
       "      <th>release_year</th>\n",
       "      <th>runtime_minutes</th>\n",
       "      <th>genres</th>\n",
       "    </tr>\n",
       "  </thead>\n",
       "  <tbody>\n",
       "    <tr>\n",
       "      <th>96096</th>\n",
       "      <td>tt0098284</td>\n",
       "      <td>Four Loves</td>\n",
       "      <td>Si qian jin</td>\n",
       "      <td>1989</td>\n",
       "      <td>97</td>\n",
       "      <td>Comedy,Drama,Romance</td>\n",
       "    </tr>\n",
       "  </tbody>\n",
       "</table>\n",
       "</div>"
      ],
      "text/plain": [
       "        ID_title       title original_title  release_year  runtime_minutes  \\\n",
       "96096  tt0098284  Four Loves    Si qian jin          1989               97   \n",
       "\n",
       "                     genres  \n",
       "96096  Comedy,Drama,Romance  "
      ]
     },
     "execution_count": 43,
     "metadata": {},
     "output_type": "execute_result"
    }
   ],
   "source": [
    "df_Siqianjin = titleBasic_clean[titleBasic_clean['original_title'] == 'Si qian jin']\n",
    "df_Siqianjin"
   ]
  },
  {
   "cell_type": "markdown",
   "metadata": {},
   "source": [
    "#### Gestion des valeurs manquantes"
   ]
  },
  {
   "cell_type": "code",
   "execution_count": 45,
   "metadata": {},
   "outputs": [],
   "source": [
    "# Calcul du nombre total de lignes contenant au moins une valeur manquante\n",
    "total_missing_rows_sum = titleBasic_clean.isna().any(axis=1).sum()\n",
    "\n",
    "# Calcul du nombre total de colonnes contenant au moins une valeur manquante\n",
    "total_missing_columns_sum = titleBasic_clean.isna().any(axis=0).sum()"
   ]
  },
  {
   "cell_type": "code",
   "execution_count": 46,
   "metadata": {},
   "outputs": [
    {
     "name": "stdout",
     "output_type": "stream",
     "text": [
      "Nombre total de lignes contenant des valeurs manquantes : 92520\n",
      "Nombre total de colonnes contenant des valeurs manquantes : 4\n",
      "\n"
     ]
    }
   ],
   "source": [
    "# Afficher le nombre total de lignes avec des valeurs manquantes\n",
    "print(f\"Nombre total de lignes contenant des valeurs manquantes : {total_missing_rows_sum}\")\n",
    "\n",
    "# Afficher le nombre total de colonnes avec des valeurs manquantes\n",
    "print(f\"Nombre total de colonnes contenant des valeurs manquantes : {total_missing_columns_sum}\\n\")"
   ]
  },
  {
   "cell_type": "code",
   "execution_count": 49,
   "metadata": {},
   "outputs": [
    {
     "name": "stdout",
     "output_type": "stream",
     "text": [
      "Colonnes avec des valeurs manquantes: ['title', 'original_title', 'runtime_minutes', 'genres']\n"
     ]
    }
   ],
   "source": [
    "# Identifier les colonnes avec des valeurs manquantes\n",
    "columns_with_missing_values = titleBasic_clean.columns[titleBasic_clean.isna().any()].tolist()\n",
    "\n",
    "# Afficher les colonnes avec des valeurs manquantes\n",
    "print(\"Colonnes avec des valeurs manquantes:\", columns_with_missing_values)"
   ]
  },
  {
   "cell_type": "markdown",
   "metadata": {},
   "source": [
    "On ne retire pas les lignes avec NA issue de ces colonnes car on va remplacer les valeurs manquantes avec le DF TMDB, pour \n",
    "minimiser la perte en données."
   ]
  },
  {
   "cell_type": "code",
   "execution_count": 48,
   "metadata": {},
   "outputs": [],
   "source": [
    "# # Détecter et afficher les lignes contenant des valeurs manquantes\n",
    "# rows_with_missing_values = titleBasic_clean[titleBasic_clean.isna().any(axis=0)]\n",
    "\n",
    "# # Si vous voulez afficher ces lignes\n",
    "# #print(rows_with_missing_values)"
   ]
  },
  {
   "cell_type": "code",
   "execution_count": 50,
   "metadata": {},
   "outputs": [
    {
     "name": "stdout",
     "output_type": "stream",
     "text": [
      "<class 'pandas.core.frame.DataFrame'>\n",
      "Index: 348394 entries, 4881963 to 348953\n",
      "Data columns (total 6 columns):\n",
      " #   Column           Non-Null Count   Dtype \n",
      "---  ------           --------------   ----- \n",
      " 0   ID_title         348394 non-null  object\n",
      " 1   title            348393 non-null  object\n",
      " 2   original_title   348393 non-null  object\n",
      " 3   release_year     348394 non-null  Int64 \n",
      " 4   runtime_minutes  266753 non-null  Int64 \n",
      " 5   genres           323317 non-null  object\n",
      "dtypes: Int64(2), object(4)\n",
      "memory usage: 19.3+ MB\n"
     ]
    }
   ],
   "source": [
    "titleBasic_clean.info()"
   ]
  },
  {
   "cell_type": "code",
   "execution_count": 51,
   "metadata": {},
   "outputs": [],
   "source": [
    "# 1-Sauvegarder en format CSV\n",
    "titleBasic_clean.to_csv('titleBasic_clean.csv', index=False)"
   ]
  }
 ],
 "metadata": {
  "kernelspec": {
   "display_name": "base",
   "language": "python",
   "name": "python3"
  },
  "language_info": {
   "codemirror_mode": {
    "name": "ipython",
    "version": 3
   },
   "file_extension": ".py",
   "mimetype": "text/x-python",
   "name": "python",
   "nbconvert_exporter": "python",
   "pygments_lexer": "ipython3",
   "version": "3.11.7"
  }
 },
 "nbformat": 4,
 "nbformat_minor": 2
}
