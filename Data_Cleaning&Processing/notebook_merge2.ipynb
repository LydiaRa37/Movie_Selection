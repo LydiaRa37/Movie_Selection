{
 "cells": [
  {
   "cell_type": "markdown",
   "metadata": {},
   "source": [
    "# BDD tmdb"
   ]
  },
  {
   "cell_type": "code",
   "execution_count": 1,
   "metadata": {},
   "outputs": [],
   "source": [
    "# Importation des modules\n",
    "import pandas as pd\n",
    "import numpy as np\n",
    "%matplotlib inline\n",
    "import matplotlib.pyplot as plt\n",
    "import re\n",
    "\n",
    "# Définir les options d'affichage pour afficher toutes les lignes sans troncature\n",
    "pd.set_option(\"display.max_rows\",None)\n",
    "pd.set_option(\"display.max_colwidth\",None)\n",
    "\n",
    "# Modifier les options d'affichage pour limiter les décimales\n",
    "pd.set_option('display.float_format', lambda x: '%.2f' % x)"
   ]
  },
  {
   "cell_type": "code",
   "execution_count": 2,
   "metadata": {},
   "outputs": [
    {
     "name": "stderr",
     "output_type": "stream",
     "text": [
      "C:\\Users\\titgr\\AppData\\Local\\Temp\\ipykernel_29892\\1429173555.py:2: DtypeWarning: Columns (24) have mixed types. Specify dtype option on import or set low_memory=False.\n",
      "  tmdb = pd.read_csv(\"data/tmdb_full.csv\")\n"
     ]
    },
    {
     "name": "stdout",
     "output_type": "stream",
     "text": [
      "<class 'pandas.core.frame.DataFrame'>\n",
      "RangeIndex: 309572 entries, 0 to 309571\n",
      "Data columns (total 25 columns):\n",
      " #   Column                        Non-Null Count   Dtype  \n",
      "---  ------                        --------------   -----  \n",
      " 0   adult                         309572 non-null  bool   \n",
      " 1   backdrop_path                 151760 non-null  object \n",
      " 2   budget                        309572 non-null  int64  \n",
      " 3   genres                        309572 non-null  object \n",
      " 4   homepage                      44262 non-null   object \n",
      " 5   id                            309572 non-null  int64  \n",
      " 6   imdb_id                       309572 non-null  object \n",
      " 7   original_language             309572 non-null  object \n",
      " 8   original_title                309572 non-null  object \n",
      " 9   overview                      282512 non-null  object \n",
      " 10  popularity                    309572 non-null  float64\n",
      " 11  poster_path                   264159 non-null  object \n",
      " 12  production_countries          309572 non-null  object \n",
      " 13  release_date                  301339 non-null  object \n",
      " 14  revenue                       309572 non-null  int64  \n",
      " 15  runtime                       309572 non-null  int64  \n",
      " 16  spoken_languages              309572 non-null  object \n",
      " 17  status                        309572 non-null  object \n",
      " 18  tagline                       74573 non-null   object \n",
      " 19  title                         309572 non-null  object \n",
      " 20  video                         309572 non-null  bool   \n",
      " 21  vote_average                  309572 non-null  float64\n",
      " 22  vote_count                    309572 non-null  int64  \n",
      " 23  production_companies_name     309572 non-null  object \n",
      " 24  production_companies_country  164438 non-null  object \n",
      "dtypes: bool(2), float64(2), int64(5), object(16)\n",
      "memory usage: 54.9+ MB\n",
      "None\n",
      "\n",
      "Les dimensions sont (309572, 25)\n"
     ]
    },
    {
     "data": {
      "text/html": [
       "<div>\n",
       "<style scoped>\n",
       "    .dataframe tbody tr th:only-of-type {\n",
       "        vertical-align: middle;\n",
       "    }\n",
       "\n",
       "    .dataframe tbody tr th {\n",
       "        vertical-align: top;\n",
       "    }\n",
       "\n",
       "    .dataframe thead th {\n",
       "        text-align: right;\n",
       "    }\n",
       "</style>\n",
       "<table border=\"1\" class=\"dataframe\">\n",
       "  <thead>\n",
       "    <tr style=\"text-align: right;\">\n",
       "      <th></th>\n",
       "      <th>adult</th>\n",
       "      <th>backdrop_path</th>\n",
       "      <th>budget</th>\n",
       "      <th>genres</th>\n",
       "      <th>homepage</th>\n",
       "      <th>id</th>\n",
       "      <th>imdb_id</th>\n",
       "      <th>original_language</th>\n",
       "      <th>original_title</th>\n",
       "      <th>overview</th>\n",
       "      <th>...</th>\n",
       "      <th>runtime</th>\n",
       "      <th>spoken_languages</th>\n",
       "      <th>status</th>\n",
       "      <th>tagline</th>\n",
       "      <th>title</th>\n",
       "      <th>video</th>\n",
       "      <th>vote_average</th>\n",
       "      <th>vote_count</th>\n",
       "      <th>production_companies_name</th>\n",
       "      <th>production_companies_country</th>\n",
       "    </tr>\n",
       "  </thead>\n",
       "  <tbody>\n",
       "    <tr>\n",
       "      <th>220773</th>\n",
       "      <td>False</td>\n",
       "      <td>/jJJbqu5XQUxYrAdr397JGjhhIPe.jpg</td>\n",
       "      <td>0</td>\n",
       "      <td>[]</td>\n",
       "      <td>NaN</td>\n",
       "      <td>128351</td>\n",
       "      <td>tt0199305</td>\n",
       "      <td>it</td>\n",
       "      <td>Aitanic</td>\n",
       "      <td>NaN</td>\n",
       "      <td>...</td>\n",
       "      <td>0</td>\n",
       "      <td>[]</td>\n",
       "      <td>Released</td>\n",
       "      <td>NaN</td>\n",
       "      <td>Aitanic</td>\n",
       "      <td>False</td>\n",
       "      <td>4.10</td>\n",
       "      <td>4</td>\n",
       "      <td>[]</td>\n",
       "      <td>NaN</td>\n",
       "    </tr>\n",
       "  </tbody>\n",
       "</table>\n",
       "<p>1 rows × 25 columns</p>\n",
       "</div>"
      ],
      "text/plain": [
       "        adult                     backdrop_path  budget genres homepage  \\\n",
       "220773  False  /jJJbqu5XQUxYrAdr397JGjhhIPe.jpg       0     []      NaN   \n",
       "\n",
       "            id    imdb_id original_language original_title overview  ...  \\\n",
       "220773  128351  tt0199305                it        Aitanic      NaN  ...   \n",
       "\n",
       "        runtime spoken_languages    status tagline    title  video  \\\n",
       "220773        0               []  Released     NaN  Aitanic  False   \n",
       "\n",
       "       vote_average vote_count production_companies_name  \\\n",
       "220773         4.10          4                        []   \n",
       "\n",
       "       production_companies_country  \n",
       "220773                          NaN  \n",
       "\n",
       "[1 rows x 25 columns]"
      ]
     },
     "execution_count": 2,
     "metadata": {},
     "output_type": "execute_result"
    }
   ],
   "source": [
    "# Téléchargement de la BDD\n",
    "tmdb = pd.read_csv(\"data/tmdb_full.csv\")\n",
    " \n",
    "# Affichage des info\n",
    "print(tmdb.info())\n",
    "print()\n",
    "# Affichage des dimensions\n",
    "print(\"Les dimensions sont\",tmdb.shape)\n",
    "\n",
    "tmdb.sample()"
   ]
  },
  {
   "cell_type": "code",
   "execution_count": null,
   "metadata": {},
   "outputs": [],
   "source": [
    "# # Compter le nombre de modalités des variables catégorielles et le % de \\N\n",
    "# my_colonne = ['adult', 'backdrop_path', 'budget', 'genres', 'homepage', 'id',\n",
    "#        'imdb_id', 'original_language', 'original_title', 'overview',\n",
    "#        'popularity', 'poster_path', 'production_countries', 'release_date',\n",
    "#        'revenue', 'runtime', 'spoken_languages', 'status', 'tagline', 'title',\n",
    "#        'video', 'vote_average', 'vote_count', 'production_companies_name',\n",
    "#        'production_companies_country']\n",
    "\n",
    "# # Dictionnaire pour stocker les résultats\n",
    "# resultats = {}\n",
    "\n",
    "# # Appliquer value_counts(normalize=True) * 100 pour chaque colonne\n",
    "# for colonne in my_colonne:\n",
    "#     resultats[colonne] = tmdb[colonne].value_counts(normalize=True) * 100\n",
    "\n",
    "# # # Afficher les résultats\n",
    "# # for colonne, valeurs in resultats.items():\n",
    "# #     print(f\"Pourcentage de chaque modalité pour la colonne '{colonne}':\")\n",
    "# #      print(valeurs)\n",
    "# #     print()  # Séparateur pour plus de lisibilité"
   ]
  },
  {
   "cell_type": "code",
   "execution_count": null,
   "metadata": {},
   "outputs": [],
   "source": [
    "# # Filtrer le DataFrame pour conserver uniquement les lignes où 'original_title' et 'title' sont différents\n",
    "# filtered_df = tmdb[tmdb['original_title'] != tmdb['title']]\n",
    "\n",
    "# # Afficher le DataFrame après le filtrage\n",
    "# print(\"\\nDataFrame après le filtrage (valeurs différentes dans 'original_title' et 'title'):\")\n",
    "filtered_df[['original_title', 'title']].sample(2)"
   ]
  },
  {
   "cell_type": "code",
   "execution_count": null,
   "metadata": {},
   "outputs": [],
   "source": [
    "# Filtrer le DataFrame pour conserver uniquement les lignes où 'original_title' et 'title' sont égaux\n",
    "filtered_df2 = tmdb[tmdb['original_title'] == tmdb['title']]\n",
    "\n",
    "# Afficher le DataFrame après le filtrage\n",
    "print(\"\\nDataFrame après le filtrage (valeurs différentes dans 'original_title' et 'title'):\")\n",
    "filtered_df2[['original_title', 'title']].sample(2)"
   ]
  },
  {
   "cell_type": "code",
   "execution_count": null,
   "metadata": {},
   "outputs": [],
   "source": [
    "# A revoir\n",
    "# est ce qu'on remplace les lignes original_title par title ?"
   ]
  },
  {
   "cell_type": "markdown",
   "metadata": {},
   "source": [
    "### Création du DF tmdb_clean"
   ]
  },
  {
   "cell_type": "code",
   "execution_count": null,
   "metadata": {},
   "outputs": [],
   "source": [
    "# Création du dataframe \n",
    "tmdb_clean = pd.DataFrame(tmdb)"
   ]
  },
  {
   "cell_type": "code",
   "execution_count": null,
   "metadata": {},
   "outputs": [],
   "source": [
    "# Modification des noms de colonnes conservées\n",
    "\n",
    "    #Création du dictionnaire associant les anciens noms aux nouveaux noms de colonnes\n",
    "dictionnaire_colonne_tmdb = {\n",
    "    \"id\": \"ID_TMDB\",\n",
    "    \"imdb_id\": \"ID_title\",\n",
    "    \"title\": \"title\",\n",
    "    \"original_title\": \"original_title\",\n",
    "    \"original_language\": \"original_language\",\n",
    "    \"genres\": \"genres\",\n",
    "    \"release_date\": \"release_year\",\n",
    "    \"runtime\": \"runtime_minutes\",\n",
    "    \"status\": \"status\",\n",
    "    \"adult\": \"isAdult\",\n",
    "    \"popularity\": \"popularity\",\n",
    "    \"vote_average\": \"averageRating\",\n",
    "    \"vote_count\": \"numVotes\"\n",
    "}\n",
    "\n",
    "    #On renomme les variables grâce à la méthode rename\n",
    "tmdb_clean = tmdb_clean.rename(dictionnaire_colonne_tmdb, axis = 1)"
   ]
  },
  {
   "cell_type": "code",
   "execution_count": null,
   "metadata": {},
   "outputs": [],
   "source": [
    "tmdb_clean.info()"
   ]
  },
  {
   "cell_type": "markdown",
   "metadata": {},
   "source": [
    "### Suppression des lignes "
   ]
  },
  {
   "cell_type": "markdown",
   "metadata": {},
   "source": [
    "#### Colonne status"
   ]
  },
  {
   "cell_type": "code",
   "execution_count": null,
   "metadata": {},
   "outputs": [],
   "source": [
    "# Afficher les valeurs uniques de la colonne 'status'\n",
    "tmdb_clean['status'].unique()"
   ]
  },
  {
   "cell_type": "code",
   "execution_count": null,
   "metadata": {},
   "outputs": [],
   "source": [
    "# Retirer les lignes planned, canceled, rumored de la colonne 'status'\n",
    "    # Créer la condition pour exclure les valeurs spécifiées\n",
    "condition = (tmdb_clean['status'] != 'Planned') | (tmdb_clean['status'] != 'Canceled') | (tmdb_clean['status'] != 'Rumored')\n",
    "\n",
    "    # Appliquer la condition pour filtrer le DataFrame\n",
    "tmdb_clean = tmdb_clean[condition]"
   ]
  },
  {
   "cell_type": "markdown",
   "metadata": {},
   "source": [
    "##### Colonne isAdult"
   ]
  },
  {
   "cell_type": "code",
   "execution_count": null,
   "metadata": {},
   "outputs": [],
   "source": [
    "tmdb_clean['isAdult'].unique()"
   ]
  },
  {
   "cell_type": "code",
   "execution_count": null,
   "metadata": {},
   "outputs": [],
   "source": [
    "# Retirer les lignes où la colonne 'isAdult' est True\n",
    "tmdb_clean = tmdb_clean.loc[tmdb_clean['isAdult'] != True]\n",
    "\n",
    "# Supprimer la colonne 'isAdult'\n",
    "tmdb_clean = tmdb_clean.drop(columns= ['isAdult'], axis = 1)"
   ]
  },
  {
   "cell_type": "code",
   "execution_count": null,
   "metadata": {},
   "outputs": [],
   "source": [
    "tmdb_clean.columns"
   ]
  },
  {
   "cell_type": "markdown",
   "metadata": {},
   "source": [
    "#### Nettoyage des lignes pour ne conserver que des caractères latin"
   ]
  },
  {
   "cell_type": "code",
   "execution_count": null,
   "metadata": {},
   "outputs": [],
   "source": [
    "# Fonction pour vérifier les caractères latins\n",
    "def contains_only_latin_characters(x):\n",
    "    if isinstance(x, str):\n",
    "        # Cette expression régulière vérifie si tous les caractères de la chaîne 'x'\n",
    "        # sont compris dans les plages Unicode des caractères ASCII et certains caractères latins étendus.\n",
    "        return bool(re.match('^[\\u0000-\\u007F\\u00A0-\\u00FF]*$', x))\n",
    "    return True  # Pour les cases qui ne sont pas des strings (e.g., NaN)\n",
    "\n",
    "# Appliquer la fonction à chaque cellule et filtrer les lignes\n",
    "filtered_rows = tmdb_clean.applymap(contains_only_latin_characters).all(axis=1)\n",
    "\n",
    "# Filtrer le DataFrame pour garder uniquement les lignes où toutes les cellules sont validées\n",
    "tmdb_clean = tmdb_clean[filtered_rows]"
   ]
  },
  {
   "cell_type": "code",
   "execution_count": null,
   "metadata": {},
   "outputs": [],
   "source": [
    "# Fonction pour vérifier les caractères non latins\n",
    "def contains_non_latin_characters(x):\n",
    "    if isinstance(x, str):\n",
    "        # Cette expression régulière recherche des caractères non latins\n",
    "        return bool(re.search('[^\\u0020-\\u007E\\u00A0-\\u00FF]', x))\n",
    "    return False  # Faux pour les cellules non-string comme int, float, NaN\n",
    "\n",
    "# Liste pour stocker les noms des colonnes avec des caractères non latins\n",
    "columns_with_non_latin = []\n",
    "\n",
    "# Vérifier chaque colonne\n",
    "for column in tmdb_clean.columns:\n",
    "    if tmdb_clean[column].apply(contains_non_latin_characters).any():\n",
    "        columns_with_non_latin.append(column)\n",
    "\n",
    "# Afficher les noms des colonnes avec des caractères non latins\n",
    "print(\"Colonnes avec des caractères non latins :\", columns_with_non_latin)\n"
   ]
  },
  {
   "cell_type": "code",
   "execution_count": null,
   "metadata": {},
   "outputs": [],
   "source": [
    "#tmdb_clean['overview'].value_counts()"
   ]
  },
  {
   "cell_type": "code",
   "execution_count": null,
   "metadata": {},
   "outputs": [],
   "source": [
    "# Exemple d'application sur le DataFrame\n",
    "tmdb_clean['production_companies_name'] = clean_column(tmdb_clean['production_companies_name'])\n",
    "tmdb_clean['genres'] = clean_column(tmdb_clean['genres'])\n",
    "tmdb_clean['spoken_languages'] = clean_column(tmdb_clean['spoken_languages'])"
   ]
  },
  {
   "cell_type": "markdown",
   "metadata": {},
   "source": [
    "#### Gestion des valeurs manquantes"
   ]
  },
  {
   "cell_type": "code",
   "execution_count": null,
   "metadata": {},
   "outputs": [],
   "source": [
    "# Détection des valeurs manquantes\n",
    "\n",
    "    # On détecte les COLONNES contenant au moins une valeur manquante\n",
    "print(\"le nombre de colonnes avec des valeurs manquantes est \", tmdb_clean.isna().any(axis = 0).sum())\n",
    "print()\n",
    "colonne_NA = tmdb_clean.isna().any(axis = 0)\n",
    "print(colonne_NA)\n",
    "\n",
    "# On détecte les LIGNES contenant au moins une valeur manquante\n",
    "print(\"le nombre de lignes avec des valeurs manquantes est \", tmdb_clean.isna().any(axis = 1).sum())\n",
    "ligne_NA = tmdb_clean.isna().any(axis = 1)"
   ]
  },
  {
   "cell_type": "code",
   "execution_count": null,
   "metadata": {},
   "outputs": [],
   "source": [
    "# Vérifier les lignes vides dans le DataFrame\n",
    "empty_rows = tmdb_clean.isnull().all(axis=1)\n",
    "\n",
    "# Afficher les lignes vides\n",
    "empty_rows_indices = empty_rows[empty_rows].index\n",
    "print(empty_rows_indices)"
   ]
  },
  {
   "cell_type": "markdown",
   "metadata": {},
   "source": [
    "Il n'y a pas de lignes vide dans le DF."
   ]
  },
  {
   "cell_type": "markdown",
   "metadata": {},
   "source": [
    "#### Gestion des NaN"
   ]
  },
  {
   "cell_type": "code",
   "execution_count": null,
   "metadata": {},
   "outputs": [],
   "source": [
    "# Initialisation des comptes de NaN\n",
    "nan_counts_per_column = {}\n",
    "total_nan_counts = 0\n",
    "\n",
    "# Boucle sur chaque colonne et comptage des NaN\n",
    "for column in tmdb_clean.columns:\n",
    "    nan_count = tmdb_clean[column].isna().sum()\n",
    "    nan_counts_per_column[column] = nan_count\n",
    "    total_nan_counts += nan_count\n",
    "\n",
    "# Affichage des résultats\n",
    "print(\"Nombre de NaN par colonne:\")\n",
    "for column, count in nan_counts_per_column.items():\n",
    "    print(f\"Colonne {column}: {count} NaN\")\n",
    "\n",
    "print(\"\\nNombre total de NaN dans tout le DataFrame:\")\n",
    "print(total_nan_counts)"
   ]
  },
  {
   "cell_type": "markdown",
   "metadata": {},
   "source": [
    "On ne retire pas les NaN pour le moment on verra au moment du merge s'il possible de recupèrer des données du df IMDB."
   ]
  },
  {
   "cell_type": "markdown",
   "metadata": {},
   "source": [
    "#### Nettoyer les colonnes production_companies_name, genres"
   ]
  },
  {
   "cell_type": "code",
   "execution_count": null,
   "metadata": {},
   "outputs": [],
   "source": [
    "# Avant nettoyage\n",
    "print(tmdb_clean['genres'].unique())\n",
    "print()\n",
    "print(tmdb_clean['production_companies_name'].unique())\n",
    "print()\n",
    "print(tmdb_clean['spoken_languages'].unique())\n"
   ]
  },
  {
   "cell_type": "code",
   "execution_count": null,
   "metadata": {},
   "outputs": [],
   "source": [
    "# # nettoyer les colonnes production_companies_name, genres\n",
    "# def clean_column(col):\n",
    "#     # Assurer que col est une série de chaînes de caractères et gérer les NaNs\n",
    "#     if isinstance(col, pd.Series):  # Vérifie si 'col' est une série\n",
    "#         col = col.fillna('')  # Remplace NaN par une chaîne vide\n",
    "\n",
    "#         # Remplace les caractères indésirables et divise\n",
    "#         clean_split_col = col.str.replace(r\"[\\['\\]]\", \"\", regex=True).str.split(', ')\n",
    "\n",
    "#         # Joint de nouveau les éléments de chaîne valides\n",
    "#         return clean_split_col.apply(lambda x: ', '.join(val for val in x if isinstance(val, str)))\n",
    "\n",
    "#     return col  # Dans le cas où 'col' n'était pas une série"
   ]
  },
  {
   "cell_type": "code",
   "execution_count": null,
   "metadata": {},
   "outputs": [],
   "source": [
    "def clean_column(col):\n",
    "    # Assurer que col est une série de chaînes de caractères et gérer les NaNs\n",
    "    if isinstance(col, pd.Series):  # Vérifie si 'col' est une série\n",
    "        col = col.fillna('')  # Remplace NaN par une chaîne vide\n",
    "        \n",
    "        # Vérifie si les éléments de la colonne sont des chaînes\n",
    "        if col.dtype == 'object':  # Cela inclut des chaînes et des objets\n",
    "            # Remplace les caractères indésirables et divise\n",
    "            clean_split_col = col.str.replace(r\"[\\['\\]]\", \"\", regex=True).str.split(', ')\n",
    "            \n",
    "            # Joint de nouveau les éléments de chaîne valides\n",
    "            return clean_split_col.apply(lambda x: ', '.join(val for val in x if isinstance(val, str)))\n",
    "    \n",
    "    return col  # Dans le cas où 'col' n'était pas une série ou ne contenait pas de chaînes\n"
   ]
  },
  {
   "cell_type": "code",
   "execution_count": null,
   "metadata": {},
   "outputs": [],
   "source": [
    "# Appliquer la fonction clean_column à chaque colonne du DataFrame\n",
    "tmdb_clean = tmdb_clean.apply(clean_column)"
   ]
  },
  {
   "cell_type": "code",
   "execution_count": null,
   "metadata": {},
   "outputs": [],
   "source": [
    "# Application sur le DataFrame\n",
    "tmdb_clean['production_companies_name'] = clean_column(tmdb_clean['production_companies_name'])\n",
    "tmdb_clean['genres'] = clean_column(tmdb_clean['genres'])\n",
    "tmdb_clean['spoken_languages'] = clean_column(tmdb_clean['spoken_languages'])"
   ]
  },
  {
   "cell_type": "code",
   "execution_count": null,
   "metadata": {},
   "outputs": [],
   "source": [
    "# Créer une série avec les valeurs uniques et imprimer\n",
    "# unique_genres = pd.Series(tmdb_clean['genres'].unique())\n",
    "# print(unique_genres)"
   ]
  },
  {
   "cell_type": "code",
   "execution_count": null,
   "metadata": {},
   "outputs": [],
   "source": [
    "# Retirer les espaces entre chaque valeur \n",
    "tmdb_clean['genres'] = tmdb_clean['genres'].str.replace(r',\\s*', ',', regex=True)"
   ]
  },
  {
   "cell_type": "code",
   "execution_count": null,
   "metadata": {},
   "outputs": [],
   "source": [
    "# # Créer une série avec les valeurs uniques et imprimer\n",
    "# unique_genres = pd.Series(tmdb_clean['production_companies_name'].unique())\n",
    "# print(unique_genres)"
   ]
  },
  {
   "cell_type": "code",
   "execution_count": null,
   "metadata": {},
   "outputs": [],
   "source": [
    "# Retirer les espaces entre chaque valeur \n",
    "tmdb_clean['production_companies_name'] = tmdb_clean['production_companies_name'].str.replace(r',\\s*', ',', regex=True)"
   ]
  },
  {
   "cell_type": "code",
   "execution_count": null,
   "metadata": {},
   "outputs": [],
   "source": [
    "# Créer une série avec les valeurs uniques et imprimer\n",
    "unique_genres = pd.Series(tmdb_clean['spoken_languages'].unique())\n",
    "print(unique_genres)"
   ]
  },
  {
   "cell_type": "code",
   "execution_count": null,
   "metadata": {},
   "outputs": [],
   "source": [
    "# Retirer les espaces entre chaque valeur \n",
    "tmdb_clean['spoken_languages'] = tmdb_clean['spoken_languages'].str.replace(r',\\s*', ',', regex=True)"
   ]
  },
  {
   "cell_type": "code",
   "execution_count": null,
   "metadata": {},
   "outputs": [],
   "source": [
    "# Créer une série avec les valeurs uniques et imprimer\n",
    "unique_genres = pd.Series(tmdb_clean['spoken_languages'].unique())\n",
    "print(unique_genres)"
   ]
  },
  {
   "cell_type": "code",
   "execution_count": null,
   "metadata": {},
   "outputs": [],
   "source": [
    "# Après nettoyage\n",
    "print(tmdb_clean['genres'].unique())\n",
    "print()\n",
    "print(tmdb_clean['production_companies_name'].unique())\n",
    "print()\n",
    "print(tmdb_clean['spoken_languages'].unique())"
   ]
  },
  {
   "cell_type": "code",
   "execution_count": null,
   "metadata": {},
   "outputs": [],
   "source": [
    "# Remplacer les chaînes contenant uniquement des espaces par NaN dans tout le DataFrame\n",
    "tmdb_clean = tmdb_clean.replace(r'^\\s*$', np.nan, regex=True)"
   ]
  },
  {
   "cell_type": "markdown",
   "metadata": {},
   "source": [
    "J'ai remplacé les chaînes contenant uniquement des espaces par NaN pour facilement les retrouver lors du merge final."
   ]
  },
  {
   "cell_type": "code",
   "execution_count": null,
   "metadata": {},
   "outputs": [],
   "source": [
    "print(tmdb_clean['spoken_languages'].unique())"
   ]
  },
  {
   "cell_type": "markdown",
   "metadata": {},
   "source": [
    "##### Convertir la colonne 'release_Year' en datetime"
   ]
  },
  {
   "cell_type": "code",
   "execution_count": null,
   "metadata": {},
   "outputs": [],
   "source": [
    "# Convertir les valeurs non-NA de la colonne 'release_Year' en type 'str', car il y a valeurs \"float\" dans la colonne\n",
    "tmdb_clean['release_year'] = tmdb_clean['release_year'].astype(str)\n",
    "\n",
    "# Extraire l'année à partir de la colonne 'release_Year' si elle n'est pas NaN\n",
    "tmdb_clean['year'] = tmdb_clean[\"release_year\"].apply(lambda x: x.split('-')[0] if not pd.isnull(x) else x).astype(int)\n",
    "\n",
    "# Obtenir la valeur minimale et maximale de la colonne 'year' au lieu de 'release_Year'\n",
    "min_year = tmdb_clean['year'].min()\n",
    "max_year = tmdb_clean['year'].max()\n",
    "\n",
    "# Afficher les résultats\n",
    "print(f\"Valeur minimale de 'year': {min_year}\")\n",
    "print(f\"Valeur maximale de 'year': {max_year}\")"
   ]
  },
  {
   "cell_type": "code",
   "execution_count": null,
   "metadata": {},
   "outputs": [],
   "source": [
    "# Supprimer la colonne release_Year\n",
    "tmdb_clean = tmdb_clean.drop('release_year', axis=1)"
   ]
  },
  {
   "cell_type": "code",
   "execution_count": null,
   "metadata": {},
   "outputs": [],
   "source": [
    "# Retirer les lignes où 'year' est inférieur ou égale à 1985\n",
    "tmdb_clean = tmdb_clean.loc[tmdb_clean['year'] >= 1985]"
   ]
  },
  {
   "cell_type": "markdown",
   "metadata": {},
   "source": [
    "### Sélection des language ('FR', 'GB','IT', 'ES', 'DE')"
   ]
  },
  {
   "cell_type": "code",
   "execution_count": null,
   "metadata": {},
   "outputs": [],
   "source": [
    "# Afficher le Décompte des Modalités de la Colonne \"original_language\"\n",
    "print(tmdb_clean[\"original_language\"].value_counts(normalize=True) * 100)"
   ]
  },
  {
   "cell_type": "code",
   "execution_count": null,
   "metadata": {},
   "outputs": [],
   "source": [
    "##### optionnelle : A voir si on selectionne par la langue"
   ]
  },
  {
   "cell_type": "code",
   "execution_count": null,
   "metadata": {},
   "outputs": [],
   "source": [
    "# Garder uniquement les lignes dont original_language est  'FR', 'GB','IT', 'ES', 'DE'\n",
    "    # Définir les langues à garder\n",
    "languages_to_keep = ['en', 'fr', 'es', 'de', 'it']\n",
    "\n",
    "    # Filtrer le DataFrame pour garder uniquement les lignes avec les langues spécifiées\n",
    "tmdb_clean = tmdb_clean.loc[tmdb_clean['original_language'].isin(languages_to_keep)]"
   ]
  },
  {
   "cell_type": "markdown",
   "metadata": {},
   "source": [
    "#### Sélection des lignes qui ont des vote_count différent de 0."
   ]
  },
  {
   "cell_type": "code",
   "execution_count": null,
   "metadata": {},
   "outputs": [],
   "source": [
    "tmdb_clean = tmdb_clean[tmdb_clean['numVotes'] != 0]"
   ]
  },
  {
   "cell_type": "code",
   "execution_count": null,
   "metadata": {},
   "outputs": [],
   "source": [
    "tmdb_clean.sample()\n",
    "tmdb_clean.info()"
   ]
  },
  {
   "cell_type": "code",
   "execution_count": null,
   "metadata": {},
   "outputs": [],
   "source": [
    "print(tmdb_clean.columns)\n",
    "\n",
    "# Supprimer les colonnes non exploitables\n",
    "tmdb_clean = tmdb_clean.drop(columns=[\"backdrop_path\", \"budget\", \"homepage\", \"id\", \"poster_path\", \n",
    "                                       \"production_countries\", \"revenue\", \"status\", \"tagline\", \n",
    "                                       \"video\", \"production_companies_country\"])\n"
   ]
  },
  {
   "cell_type": "markdown",
   "metadata": {},
   "source": [
    "## Vérification (doublons et naN)"
   ]
  },
  {
   "cell_type": "code",
   "execution_count": null,
   "metadata": {},
   "outputs": [],
   "source": [
    "# Initialisation d'un dictionnaire pour stocker le nombre de doublons par colonne\n",
    "duplicate_counts = {}\n",
    "\n",
    "# Pour chaque colonne du DataFrame\n",
    "for col in tmdb_clean.columns:\n",
    "    # Utilisation de duplicated() pour détecter les doublons\n",
    "    num_duplicates = tmdb_clean[col].duplicated(keep=False).sum() - tmdb_clean[col].duplicated(keep='first').sum()\n",
    "    duplicate_counts[col] = num_duplicates\n",
    "\n",
    "# Affichage du nombre de doublons par colonne\n",
    "for col, count in duplicate_counts.items():\n",
    "    print(f\"Colonne '{col}' a {count} doublons\")"
   ]
  },
  {
   "cell_type": "code",
   "execution_count": null,
   "metadata": {},
   "outputs": [],
   "source": [
    "# Initialisation des comptes de NaN\n",
    "nan_counts_per_column = {}\n",
    "total_nan_counts = 0\n",
    "\n",
    "# Boucle sur chaque colonne et comptage des NaN\n",
    "for column in tmdb_clean.columns:\n",
    "    nan_count = tmdb_clean[column].isna().sum()\n",
    "    nan_counts_per_column[column] = nan_count\n",
    "    total_nan_counts += nan_count\n",
    "\n",
    "# Affichage des résultats\n",
    "print(\"Nombre de NaN par colonne:\")\n",
    "for column, count in nan_counts_per_column.items():\n",
    "    print(f\"Colonne {column}: {count} NaN\")\n",
    "\n",
    "print(\"\\nNombre total de NaN\")"
   ]
  },
  {
   "cell_type": "markdown",
   "metadata": {},
   "source": [
    "##### Optionnel"
   ]
  },
  {
   "cell_type": "code",
   "execution_count": null,
   "metadata": {},
   "outputs": [],
   "source": [
    "# Selectionner et conserver les colonnes  qui nous intéressent pour le ML\n",
    "columns_to_keep = [\"ID_title\", \"popularity\", \"release_Year\", \"averageRating\", \"numVotes\"]\n",
    "tmdb_clean = tmdb_clean[columns_to_keep]"
   ]
  },
  {
   "cell_type": "markdown",
   "metadata": {},
   "source": [
    "# 1-Sauvegarder en format CSV"
   ]
  },
  {
   "cell_type": "code",
   "execution_count": null,
   "metadata": {},
   "outputs": [],
   "source": [
    "# 1-Sauvegarder en format CSV\n",
    "tmdb_clean.to_csv('tmdb_clean.csv', index=False)"
   ]
  },
  {
   "cell_type": "code",
   "execution_count": null,
   "metadata": {},
   "outputs": [],
   "source": []
  },
  {
   "cell_type": "code",
   "execution_count": null,
   "metadata": {},
   "outputs": [],
   "source": []
  }
 ],
 "metadata": {
  "kernelspec": {
   "display_name": "base",
   "language": "python",
   "name": "python3"
  },
  "language_info": {
   "codemirror_mode": {
    "name": "ipython",
    "version": 3
   },
   "file_extension": ".py",
   "mimetype": "text/x-python",
   "name": "python",
   "nbconvert_exporter": "python",
   "pygments_lexer": "ipython3",
   "version": "3.11.7"
  }
 },
 "nbformat": 4,
 "nbformat_minor": 2
}
